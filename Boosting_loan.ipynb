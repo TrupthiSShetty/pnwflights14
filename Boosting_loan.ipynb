{
 "cells": [
  {
   "cell_type": "code",
   "execution_count": 8,
   "metadata": {
    "collapsed": true
   },
   "outputs": [],
   "source": [
    "import pandas as pd\n",
    "import warnings\n",
    "warnings.filterwarnings(\"ignore\")"
   ]
  },
  {
   "cell_type": "code",
   "execution_count": 9,
   "metadata": {},
   "outputs": [],
   "source": [
    "train = pd.read_csv(\"train_ctrUa4K.csv\")\n",
    "test = pd.read_csv(\"test_lAUu6dG.csv\")"
   ]
  },
  {
   "cell_type": "code",
   "execution_count": 10,
   "metadata": {},
   "outputs": [],
   "source": [
    "# !pip install imblearn\n",
    "# !pip install sklearn-pandas==1.5.0\n",
    "from sklearn_pandas import CategoricalImputer\n",
    "ci = CategoricalImputer()\n",
    "from sklearn.preprocessing import Imputer"
   ]
  },
  {
   "cell_type": "code",
   "execution_count": 11,
   "metadata": {},
   "outputs": [],
   "source": [
    "from imblearn.over_sampling import SMOTE\n",
    "from sklearn.preprocessing import LabelEncoder, StandardScaler\n",
    "scaler = StandardScaler()\n",
    "le = LabelEncoder()"
   ]
  },
  {
   "cell_type": "code",
   "execution_count": 12,
   "metadata": {},
   "outputs": [],
   "source": [
    "sm = SMOTE(random_state = 42)"
   ]
  },
  {
   "cell_type": "code",
   "execution_count": 13,
   "metadata": {},
   "outputs": [],
   "source": [
    "imputer = Imputer()"
   ]
  },
  {
   "cell_type": "code",
   "execution_count": 14,
   "metadata": {},
   "outputs": [],
   "source": [
    "\n",
    "def preprocess(df):\n",
    "    df.drop([\"Loan_ID\"],1,inplace = True)\n",
    "    df[\"Credit_History\"] =df[\"Credit_History\"].astype(object)\n",
    "    numerical = df.select_dtypes(include = np.number)\n",
    "    categorical = df.select_dtypes(exclude = np.number)\n",
    "    numerical = pd.DataFrame(imputer.fit_transform(numerical), columns=list(numerical))\n",
    "    numerical = pd.DataFrame(scaler.fit_transform(numerical), columns=list(numerical))\n",
    "    for x in list(categorical):\n",
    "        categorical[x] = le.fit_transform(ci.fit_transform(categorical[x].astype(\"category\")))\n",
    "    df = pd.concat([numerical,categorical],1)\n",
    "    return df"
   ]
  },
  {
   "cell_type": "code",
   "execution_count": 15,
   "metadata": {},
   "outputs": [],
   "source": [
    "import numpy as np\n",
    "train = preprocess(train)\n",
    "test = preprocess(test)"
   ]
  },
  {
   "cell_type": "code",
   "execution_count": 16,
   "metadata": {},
   "outputs": [
    {
     "data": {
      "text/plain": [
       "(614, 12)"
      ]
     },
     "execution_count": 16,
     "metadata": {},
     "output_type": "execute_result"
    }
   ],
   "source": [
    "train.shape"
   ]
  },
  {
   "cell_type": "code",
   "execution_count": 17,
   "metadata": {},
   "outputs": [
    {
     "data": {
      "text/html": [
       "<div>\n",
       "<style scoped>\n",
       "    .dataframe tbody tr th:only-of-type {\n",
       "        vertical-align: middle;\n",
       "    }\n",
       "\n",
       "    .dataframe tbody tr th {\n",
       "        vertical-align: top;\n",
       "    }\n",
       "\n",
       "    .dataframe thead th {\n",
       "        text-align: right;\n",
       "    }\n",
       "</style>\n",
       "<table border=\"1\" class=\"dataframe\">\n",
       "  <thead>\n",
       "    <tr style=\"text-align: right;\">\n",
       "      <th></th>\n",
       "      <th>ApplicantIncome</th>\n",
       "      <th>CoapplicantIncome</th>\n",
       "      <th>LoanAmount</th>\n",
       "      <th>Loan_Amount_Term</th>\n",
       "      <th>Gender</th>\n",
       "      <th>Married</th>\n",
       "      <th>Dependents</th>\n",
       "      <th>Education</th>\n",
       "      <th>Self_Employed</th>\n",
       "      <th>Credit_History</th>\n",
       "      <th>Property_Area</th>\n",
       "      <th>Loan_Status</th>\n",
       "    </tr>\n",
       "  </thead>\n",
       "  <tbody>\n",
       "    <tr>\n",
       "      <th>0</th>\n",
       "      <td>0.072991</td>\n",
       "      <td>-0.554487</td>\n",
       "      <td>0.000000</td>\n",
       "      <td>0.279851</td>\n",
       "      <td>1</td>\n",
       "      <td>0</td>\n",
       "      <td>0</td>\n",
       "      <td>0</td>\n",
       "      <td>0</td>\n",
       "      <td>1</td>\n",
       "      <td>2</td>\n",
       "      <td>1</td>\n",
       "    </tr>\n",
       "    <tr>\n",
       "      <th>1</th>\n",
       "      <td>-0.134412</td>\n",
       "      <td>-0.038732</td>\n",
       "      <td>-0.219273</td>\n",
       "      <td>0.279851</td>\n",
       "      <td>1</td>\n",
       "      <td>1</td>\n",
       "      <td>1</td>\n",
       "      <td>0</td>\n",
       "      <td>0</td>\n",
       "      <td>1</td>\n",
       "      <td>0</td>\n",
       "      <td>0</td>\n",
       "    </tr>\n",
       "    <tr>\n",
       "      <th>2</th>\n",
       "      <td>-0.393747</td>\n",
       "      <td>-0.554487</td>\n",
       "      <td>-0.957641</td>\n",
       "      <td>0.279851</td>\n",
       "      <td>1</td>\n",
       "      <td>1</td>\n",
       "      <td>0</td>\n",
       "      <td>0</td>\n",
       "      <td>1</td>\n",
       "      <td>1</td>\n",
       "      <td>2</td>\n",
       "      <td>1</td>\n",
       "    </tr>\n",
       "    <tr>\n",
       "      <th>3</th>\n",
       "      <td>-0.462062</td>\n",
       "      <td>0.251980</td>\n",
       "      <td>-0.314547</td>\n",
       "      <td>0.279851</td>\n",
       "      <td>1</td>\n",
       "      <td>1</td>\n",
       "      <td>0</td>\n",
       "      <td>1</td>\n",
       "      <td>0</td>\n",
       "      <td>1</td>\n",
       "      <td>2</td>\n",
       "      <td>1</td>\n",
       "    </tr>\n",
       "    <tr>\n",
       "      <th>4</th>\n",
       "      <td>0.097728</td>\n",
       "      <td>-0.554487</td>\n",
       "      <td>-0.064454</td>\n",
       "      <td>0.279851</td>\n",
       "      <td>1</td>\n",
       "      <td>0</td>\n",
       "      <td>0</td>\n",
       "      <td>0</td>\n",
       "      <td>0</td>\n",
       "      <td>1</td>\n",
       "      <td>2</td>\n",
       "      <td>1</td>\n",
       "    </tr>\n",
       "  </tbody>\n",
       "</table>\n",
       "</div>"
      ],
      "text/plain": [
       "   ApplicantIncome  CoapplicantIncome  LoanAmount  Loan_Amount_Term  Gender  \\\n",
       "0         0.072991          -0.554487    0.000000          0.279851       1   \n",
       "1        -0.134412          -0.038732   -0.219273          0.279851       1   \n",
       "2        -0.393747          -0.554487   -0.957641          0.279851       1   \n",
       "3        -0.462062           0.251980   -0.314547          0.279851       1   \n",
       "4         0.097728          -0.554487   -0.064454          0.279851       1   \n",
       "\n",
       "   Married  Dependents  Education  Self_Employed  Credit_History  \\\n",
       "0        0           0          0              0               1   \n",
       "1        1           1          0              0               1   \n",
       "2        1           0          0              1               1   \n",
       "3        1           0          1              0               1   \n",
       "4        0           0          0              0               1   \n",
       "\n",
       "   Property_Area  Loan_Status  \n",
       "0              2            1  \n",
       "1              0            0  \n",
       "2              2            1  \n",
       "3              2            1  \n",
       "4              2            1  "
      ]
     },
     "execution_count": 17,
     "metadata": {},
     "output_type": "execute_result"
    }
   ],
   "source": [
    "train.head()"
   ]
  },
  {
   "cell_type": "code",
   "execution_count": 18,
   "metadata": {},
   "outputs": [
    {
     "data": {
      "text/plain": [
       "(367, 11)"
      ]
     },
     "execution_count": 18,
     "metadata": {},
     "output_type": "execute_result"
    }
   ],
   "source": [
    "test.shape"
   ]
  },
  {
   "cell_type": "code",
   "execution_count": 19,
   "metadata": {},
   "outputs": [],
   "source": [
    "X = train.drop([\"Loan_Status\"],1)\n",
    "y = train[\"Loan_Status\"]\n",
    "X_validation = test"
   ]
  },
  {
   "cell_type": "code",
   "execution_count": 20,
   "metadata": {},
   "outputs": [],
   "source": [
    "from sklearn.model_selection import GridSearchCV, train_test_split as tts"
   ]
  },
  {
   "cell_type": "code",
   "execution_count": 21,
   "metadata": {},
   "outputs": [],
   "source": [
    "X_train, X_test, y_train, y_test = tts(X,y, random_state = 42, test_size = 0.25)"
   ]
  },
  {
   "cell_type": "code",
   "execution_count": 22,
   "metadata": {},
   "outputs": [],
   "source": [
    "from sklearn.metrics import roc_auc_score, classification_report, confusion_matrix, accuracy_score\n",
    "from sklearn.linear_model import LogisticRegression\n",
    "from sklearn.tree import DecisionTreeClassifier\n",
    "from sklearn.ensemble import RandomForestClassifier, AdaBoostClassifier, GradientBoostingClassifier\n",
    "from sklearn.ensemble import VotingClassifier, BaggingClassifier"
   ]
  },
  {
   "cell_type": "code",
   "execution_count": 23,
   "metadata": {},
   "outputs": [],
   "source": [
    "from sklearn.neighbors import KNeighborsClassifier"
   ]
  },
  {
   "cell_type": "markdown",
   "metadata": {},
   "source": [
    "### Model 1: Logistic Regression without hyperparameter and class weights in not balanced\n"
   ]
  },
  {
   "cell_type": "code",
   "execution_count": 24,
   "metadata": {},
   "outputs": [
    {
     "name": "stdout",
     "output_type": "stream",
     "text": [
      "0.7727272727272727\n",
      "              precision    recall  f1-score   support\n",
      "\n",
      "           0       0.91      0.39      0.55        54\n",
      "           1       0.75      0.98      0.85       100\n",
      "\n",
      "    accuracy                           0.77       154\n",
      "   macro avg       0.83      0.68      0.70       154\n",
      "weighted avg       0.81      0.77      0.74       154\n",
      "\n",
      "0.6844444444444444\n"
     ]
    }
   ],
   "source": [
    "log_reg = LogisticRegression(random_state=42)\n",
    "log_reg.fit(X_train,y_train)\n",
    "log_reg.score(X_test,y_test)\n",
    "y_pred  = log_reg.predict(X_test)\n",
    "print (accuracy_score(y_test,y_pred))\n",
    "print (classification_report(y_test,y_pred))\n",
    "print (roc_auc_score(y_test,y_pred))"
   ]
  },
  {
   "cell_type": "markdown",
   "metadata": {},
   "source": [
    "### Model 2: Logistic Regression without hyperparameter and class weights balanced\n"
   ]
  },
  {
   "cell_type": "code",
   "execution_count": 25,
   "metadata": {},
   "outputs": [
    {
     "name": "stdout",
     "output_type": "stream",
     "text": [
      "0.7597402597402597\n",
      "              precision    recall  f1-score   support\n",
      "\n",
      "           0       0.77      0.44      0.56        54\n",
      "           1       0.76      0.93      0.83       100\n",
      "\n",
      "    accuracy                           0.76       154\n",
      "   macro avg       0.77      0.69      0.70       154\n",
      "weighted avg       0.76      0.76      0.74       154\n",
      "\n",
      "0.6872222222222222\n"
     ]
    }
   ],
   "source": [
    "log_reg = LogisticRegression(random_state=42, class_weight=\"balanced\")\n",
    "log_reg.fit(X_train,y_train)\n",
    "log_reg.score(X_test,y_test)\n",
    "y_pred  = log_reg.predict(X_test)\n",
    "print (accuracy_score(y_test,y_pred))\n",
    "print (classification_report(y_test,y_pred))\n",
    "print (roc_auc_score(y_test,y_pred))"
   ]
  },
  {
   "cell_type": "markdown",
   "metadata": {},
   "source": [
    "### Model 3: Logistic Regression with hyperparameters optimized and class weights balanced"
   ]
  },
  {
   "cell_type": "code",
   "execution_count": 28,
   "metadata": {},
   "outputs": [
    {
     "name": "stdout",
     "output_type": "stream",
     "text": [
      "{'C': 0.11, 'penalty': 'l1'}\n",
      "0.7727272727272727\n",
      "              precision    recall  f1-score   support\n",
      "\n",
      "           0       0.91      0.39      0.55        54\n",
      "           1       0.75      0.98      0.85       100\n",
      "\n",
      "    accuracy                           0.77       154\n",
      "   macro avg       0.83      0.68      0.70       154\n",
      "weighted avg       0.81      0.77      0.74       154\n",
      "\n",
      "0.6844444444444444\n"
     ]
    }
   ],
   "source": [
    "log_reg\n",
    "params = {\"C\":np.arange(0.01,5,0.1), \n",
    "         \"penalty\":[\"l2\", \"l1\"]}\n",
    "log_reg_cv = GridSearchCV(log_reg, param_grid=params, cv = 10)\n",
    "log_reg_cv.fit(X_train,y_train)\n",
    "y_pred = log_reg_cv.best_estimator_.predict(X_test)\n",
    "print (log_reg_cv.best_params_)\n",
    "print (accuracy_score(y_test,y_pred))\n",
    "print (classification_report(y_test,y_pred))\n",
    "print (roc_auc_score(y_test,y_pred))"
   ]
  },
  {
   "cell_type": "markdown",
   "metadata": {},
   "source": [
    "### Model 4: Decision tree with hyperparameters optimized and class weights balanced"
   ]
  },
  {
   "cell_type": "code",
   "execution_count": 29,
   "metadata": {},
   "outputs": [],
   "source": [
    "dtc = DecisionTreeClassifier(random_state=42)"
   ]
  },
  {
   "cell_type": "code",
   "execution_count": 30,
   "metadata": {},
   "outputs": [
    {
     "data": {
      "text/plain": [
       "DecisionTreeClassifier(class_weight=None, criterion='gini', max_depth=None,\n",
       "                       max_features=None, max_leaf_nodes=None,\n",
       "                       min_impurity_decrease=0.0, min_impurity_split=None,\n",
       "                       min_samples_leaf=1, min_samples_split=2,\n",
       "                       min_weight_fraction_leaf=0.0, presort=False,\n",
       "                       random_state=42, splitter='best')"
      ]
     },
     "execution_count": 30,
     "metadata": {},
     "output_type": "execute_result"
    }
   ],
   "source": [
    "dtc"
   ]
  },
  {
   "cell_type": "code",
   "execution_count": 31,
   "metadata": {},
   "outputs": [
    {
     "name": "stdout",
     "output_type": "stream",
     "text": [
      "{'criterion': 'gini', 'max_depth': 8, 'min_samples_split': 0.14}\n",
      "0.7532467532467533\n",
      "              precision    recall  f1-score   support\n",
      "\n",
      "           0       0.71      0.50      0.59        54\n",
      "           1       0.77      0.89      0.82       100\n",
      "\n",
      "    accuracy                           0.75       154\n",
      "   macro avg       0.74      0.70      0.71       154\n",
      "weighted avg       0.75      0.75      0.74       154\n",
      "\n",
      "0.6950000000000001\n"
     ]
    }
   ],
   "source": [
    "\n",
    "params = {\"criterion\":[\"gini\", \"entropy\"], \n",
    "         \"max_depth\":np.arange(4,16,1), \n",
    "         \"min_samples_split\":np.arange(0.05, 0.16, 0.01)}\n",
    "dtc_cv = GridSearchCV(dtc, param_grid=params, cv = 10)\n",
    "dtc_cv.fit(X_train,y_train)\n",
    "y_pred = dtc_cv.best_estimator_.predict(X_test)\n",
    "print (dtc_cv.best_params_)\n",
    "print (accuracy_score(y_test,y_pred))\n",
    "print (classification_report(y_test,y_pred))\n",
    "print (roc_auc_score(y_test,y_pred))"
   ]
  },
  {
   "cell_type": "markdown",
   "metadata": {},
   "source": [
    "### Model 5: Random Forest with no hyperparameter optmized"
   ]
  },
  {
   "cell_type": "code",
   "execution_count": 32,
   "metadata": {},
   "outputs": [],
   "source": [
    "from sklearn.ensemble import RandomForestClassifier"
   ]
  },
  {
   "cell_type": "code",
   "execution_count": 33,
   "metadata": {},
   "outputs": [],
   "source": [
    "rfc = RandomForestClassifier(random_state=42, oob_score=True)"
   ]
  },
  {
   "cell_type": "code",
   "execution_count": 34,
   "metadata": {},
   "outputs": [
    {
     "name": "stdout",
     "output_type": "stream",
     "text": [
      "0.7532467532467533\n",
      "              precision    recall  f1-score   support\n",
      "\n",
      "           0       0.75      0.44      0.56        54\n",
      "           1       0.75      0.92      0.83       100\n",
      "\n",
      "    accuracy                           0.75       154\n",
      "   macro avg       0.75      0.68      0.69       154\n",
      "weighted avg       0.75      0.75      0.73       154\n",
      "\n",
      "0.6822222222222223\n",
      "0.7195652173913043\n"
     ]
    }
   ],
   "source": [
    "rfc.fit(X_train,y_train)\n",
    "y_pred = rfc.predict(X_test)\n",
    "print (accuracy_score(y_test,y_pred))\n",
    "print (classification_report(y_test,y_pred))\n",
    "print (roc_auc_score(y_test,y_pred))\n",
    "print (rfc.oob_score_)"
   ]
  },
  {
   "cell_type": "markdown",
   "metadata": {},
   "source": [
    "### Model 5: Random Forest with no hyperparameter optmized"
   ]
  },
  {
   "cell_type": "code",
   "execution_count": 35,
   "metadata": {},
   "outputs": [
    {
     "name": "stdout",
     "output_type": "stream",
     "text": [
      "{'criterion': 'gini'}\n",
      "              precision    recall  f1-score   support\n",
      "\n",
      "           0       0.75      0.44      0.56        54\n",
      "           1       0.75      0.92      0.83       100\n",
      "\n",
      "    accuracy                           0.75       154\n",
      "   macro avg       0.75      0.68      0.69       154\n",
      "weighted avg       0.75      0.75      0.73       154\n",
      "\n",
      "0.6822222222222223\n"
     ]
    }
   ],
   "source": [
    "rfc = RandomForestClassifier(random_state=42, oob_score=True)\n",
    "params = {\"criterion\":[\"gini\", \"entropy\"]}\n",
    "rfc_cv = GridSearchCV(rfc, param_grid=params, cv = 10)\n",
    "rfc_cv.fit(X_train,y_train)\n",
    "y_pred = rfc_cv.best_estimator_.predict(X_test)\n",
    "print (rfc_cv.best_params_)\n",
    "print (classification_report(y_test,y_pred))\n",
    "print (roc_auc_score(y_test,y_pred))"
   ]
  },
  {
   "cell_type": "markdown",
   "metadata": {},
   "source": [
    "### Model 6 Adaboost with Decision tree"
   ]
  },
  {
   "cell_type": "code",
   "execution_count": 47,
   "metadata": {},
   "outputs": [],
   "source": [
    "from sklearn.ensemble import AdaBoostClassifier, GradientBoostingClassifier\n",
    "adb = AdaBoostClassifier()\n",
    "gdb = GradientBoostingClassifier()"
   ]
  },
  {
   "cell_type": "code",
   "execution_count": 51,
   "metadata": {},
   "outputs": [
    {
     "name": "stdout",
     "output_type": "stream",
     "text": [
      "0.7337662337662337\n",
      "              precision    recall  f1-score   support\n",
      "\n",
      "           0       0.69      0.44      0.54        54\n",
      "           1       0.75      0.89      0.81       100\n",
      "\n",
      "    accuracy                           0.73       154\n",
      "   macro avg       0.72      0.67      0.68       154\n",
      "weighted avg       0.73      0.73      0.72       154\n",
      "\n",
      "0.6672222222222222\n"
     ]
    }
   ],
   "source": [
    "\n",
    "adb = AdaBoostClassifier(base_estimator=rfc, n_estimators=100)\n",
    "\n",
    "adb.fit(X_train,y_train)\n",
    "y_pred = adb.predict(X_test)\n",
    "print (accuracy_score(y_test,y_pred))\n",
    "print (classification_report(y_test,y_pred))\n",
    "print (roc_auc_score(y_test,y_pred))"
   ]
  }
 ],
 "metadata": {
  "kernelspec": {
   "display_name": "Python 3",
   "language": "python",
   "name": "python3"
  },
  "language_info": {
   "codemirror_mode": {
    "name": "ipython",
    "version": 3
   },
   "file_extension": ".py",
   "mimetype": "text/x-python",
   "name": "python",
   "nbconvert_exporter": "python",
   "pygments_lexer": "ipython3",
   "version": "3.7.3"
  }
 },
 "nbformat": 4,
 "nbformat_minor": 2
}
