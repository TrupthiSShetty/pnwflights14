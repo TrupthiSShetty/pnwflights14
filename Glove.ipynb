{
 "cells": [
  {
   "cell_type": "code",
   "execution_count": 1,
   "metadata": {},
   "outputs": [
    {
     "name": "stdout",
     "output_type": "stream",
     "text": [
      "Requirement already satisfied: keras in c:\\programdata\\anaconda3\\lib\\site-packages (2.3.1)\n",
      "Requirement already satisfied: pyyaml in c:\\programdata\\anaconda3\\lib\\site-packages (from keras) (5.1)\n",
      "Requirement already satisfied: scipy>=0.14 in c:\\programdata\\anaconda3\\lib\\site-packages (from keras) (1.2.1)\n",
      "Requirement already satisfied: six>=1.9.0 in c:\\programdata\\anaconda3\\lib\\site-packages (from keras) (1.12.0)\n",
      "Requirement already satisfied: numpy>=1.9.1 in c:\\programdata\\anaconda3\\lib\\site-packages (from keras) (1.16.2)\n",
      "Requirement already satisfied: keras-applications>=1.0.6 in c:\\programdata\\anaconda3\\lib\\site-packages (from keras) (1.0.8)\n",
      "Requirement already satisfied: keras-preprocessing>=1.0.5 in c:\\programdata\\anaconda3\\lib\\site-packages (from keras) (1.1.0)\n",
      "Requirement already satisfied: h5py in c:\\programdata\\anaconda3\\lib\\site-packages (from keras) (2.9.0)\n"
     ]
    }
   ],
   "source": [
    "!pip install keras"
   ]
  },
  {
   "cell_type": "code",
   "execution_count": null,
   "metadata": {},
   "outputs": [],
   "source": []
  },
  {
   "cell_type": "code",
   "execution_count": 9,
   "metadata": {},
   "outputs": [
    {
     "name": "stderr",
     "output_type": "stream",
     "text": [
      "Using TensorFlow backend.\n"
     ]
    }
   ],
   "source": [
    "# Basic packages\n",
    "import pandas as pd \n",
    "import numpy as np\n",
    "import re\n",
    "import collections\n",
    "import matplotlib.pyplot as plt\n",
    "from pathlib import Path\n",
    "\n",
    "# Packages for data preparation\n",
    "from sklearn.model_selection import train_test_split\n",
    "from nltk.corpus import stopwords\n",
    "from keras.preprocessing.text import Tokenizer\n",
    "from keras.preprocessing.sequence import pad_sequences\n",
    "from keras.utils.np_utils import to_categorical\n",
    "from sklearn.preprocessing import LabelEncoder\n",
    "\n",
    "# Packages for modeling\n",
    "from keras import models\n",
    "from keras import layers\n",
    "from keras import regularizers"
   ]
  },
  {
   "cell_type": "code",
   "execution_count": 8,
   "metadata": {},
   "outputs": [
    {
     "name": "stdout",
     "output_type": "stream",
     "text": [
      "Collecting tensorflow>=1.7.0\n",
      "  Using cached https://files.pythonhosted.org/packages/54/5f/e1b2d83b808f978f51b7ce109315154da3a3d4151aa59686002681f2e109/tensorflow-2.0.0-cp37-cp37m-win_amd64.whl\n",
      "Requirement already satisfied: google-pasta>=0.1.6 in c:\\programdata\\anaconda3\\lib\\site-packages (from tensorflow>=1.7.0) (0.1.7)\n",
      "Requirement already satisfied: termcolor>=1.1.0 in c:\\programdata\\anaconda3\\lib\\site-packages (from tensorflow>=1.7.0) (1.1.0)\n",
      "Requirement already satisfied: wrapt>=1.11.1 in c:\\programdata\\anaconda3\\lib\\site-packages (from tensorflow>=1.7.0) (1.11.1)\n",
      "Requirement already satisfied: keras-preprocessing>=1.0.5 in c:\\programdata\\anaconda3\\lib\\site-packages (from tensorflow>=1.7.0) (1.1.0)\n",
      "Requirement already satisfied: grpcio>=1.8.6 in c:\\programdata\\anaconda3\\lib\\site-packages (from tensorflow>=1.7.0) (1.24.3)\n",
      "Requirement already satisfied: numpy<2.0,>=1.16.0 in c:\\programdata\\anaconda3\\lib\\site-packages (from tensorflow>=1.7.0) (1.16.2)\n",
      "Requirement already satisfied: keras-applications>=1.0.8 in c:\\programdata\\anaconda3\\lib\\site-packages (from tensorflow>=1.7.0) (1.0.8)\n",
      "Requirement already satisfied: opt-einsum>=2.3.2 in c:\\programdata\\anaconda3\\lib\\site-packages (from tensorflow>=1.7.0) (3.1.0)\n",
      "Requirement already satisfied: six>=1.10.0 in c:\\programdata\\anaconda3\\lib\\site-packages (from tensorflow>=1.7.0) (1.12.0)\n",
      "Collecting protobuf>=3.6.1 (from tensorflow>=1.7.0)\n",
      "  Using cached https://files.pythonhosted.org/packages/a8/ae/a11b9b0c8e2410b11887881990b71f54ec39b17c4de2b5d850ef66aade8c/protobuf-3.10.0-cp37-cp37m-win_amd64.whl\n",
      "Requirement already satisfied: tensorflow-estimator<2.1.0,>=2.0.0 in c:\\programdata\\anaconda3\\lib\\site-packages (from tensorflow>=1.7.0) (2.0.1)\n",
      "Requirement already satisfied: astor>=0.6.0 in c:\\programdata\\anaconda3\\lib\\site-packages (from tensorflow>=1.7.0) (0.8.0)\n",
      "Requirement already satisfied: gast==0.2.2 in c:\\programdata\\anaconda3\\lib\\site-packages (from tensorflow>=1.7.0) (0.2.2)\n",
      "Requirement already satisfied: wheel>=0.26 in c:\\programdata\\anaconda3\\lib\\site-packages (from tensorflow>=1.7.0) (0.33.1)\n",
      "Collecting tensorboard<2.1.0,>=2.0.0 (from tensorflow>=1.7.0)\n",
      "  Using cached https://files.pythonhosted.org/packages/9b/a6/e8ffa4e2ddb216449d34cfcb825ebb38206bee5c4553d69e7bc8bc2c5d64/tensorboard-2.0.0-py3-none-any.whl\n",
      "Requirement already satisfied: absl-py>=0.7.0 in c:\\programdata\\anaconda3\\lib\\site-packages (from tensorflow>=1.7.0) (0.8.1)\n",
      "Requirement already satisfied: h5py in c:\\programdata\\anaconda3\\lib\\site-packages (from keras-applications>=1.0.8->tensorflow>=1.7.0) (2.9.0)\n",
      "Requirement already satisfied: setuptools in c:\\programdata\\anaconda3\\lib\\site-packages (from protobuf>=3.6.1->tensorflow>=1.7.0) (40.8.0)\n",
      "Requirement already satisfied: werkzeug>=0.11.15 in c:\\programdata\\anaconda3\\lib\\site-packages (from tensorboard<2.1.0,>=2.0.0->tensorflow>=1.7.0) (0.14.1)\n",
      "Collecting markdown>=2.6.8 (from tensorboard<2.1.0,>=2.0.0->tensorflow>=1.7.0)\n",
      "  Using cached https://files.pythonhosted.org/packages/c0/4e/fd492e91abdc2d2fcb70ef453064d980688762079397f779758e055f6575/Markdown-3.1.1-py2.py3-none-any.whl\n",
      "Installing collected packages: protobuf, markdown, tensorboard, tensorflow\n",
      "Successfully installed markdown-3.1.1 protobuf-3.10.0 tensorboard-2.0.0 tensorflow-2.0.0\n"
     ]
    },
    {
     "name": "stderr",
     "output_type": "stream",
     "text": [
      "tensorboard 2.0.0 has requirement setuptools>=41.0.0, but you'll have setuptools 40.8.0 which is incompatible.\n"
     ]
    },
    {
     "name": "stdout",
     "output_type": "stream",
     "text": [
      "Collecting tensorflow-hub\n",
      "  Downloading https://files.pythonhosted.org/packages/ac/64/3bba86ca49ef21a4add11a4d37e3f6cd05d2e61d207ebe26a8a96b340826/tensorflow_hub-0.6.0-py2.py3-none-any.whl (84kB)\n",
      "Requirement already satisfied: six>=1.10.0 in c:\\programdata\\anaconda3\\lib\\site-packages (from tensorflow-hub) (1.12.0)\n",
      "Requirement already satisfied: protobuf>=3.4.0 in c:\\programdata\\anaconda3\\lib\\site-packages (from tensorflow-hub) (3.10.0)\n",
      "Requirement already satisfied: numpy>=1.12.0 in c:\\programdata\\anaconda3\\lib\\site-packages (from tensorflow-hub) (1.16.2)\n",
      "Requirement already satisfied: setuptools in c:\\programdata\\anaconda3\\lib\\site-packages (from protobuf>=3.4.0->tensorflow-hub) (40.8.0)\n",
      "Installing collected packages: tensorflow-hub\n",
      "Successfully installed tensorflow-hub-0.6.0\n"
     ]
    }
   ],
   "source": [
    "! pip install \"tensorflow>=1.7.0\"\n",
    "! pip install tensorflow-hub"
   ]
  },
  {
   "cell_type": "code",
   "execution_count": 71,
   "metadata": {},
   "outputs": [],
   "source": [
    "NB_WORDS = 10000  # Parameter indicating the number of words we'll put in the dictionary\n",
    "VAL_SIZE = 1000  # Size of the validation set\n",
    "NB_START_EPOCHS = 20  # Number of epochs we usually start to train with\n",
    "BATCH_SIZE = 512  # Size of the batches used in the mini-batch gradient descent\n",
    "MAX_LEN = 24  # Maximum number of words in a sequence\n",
    "GLOVE_DIM = 50  # Number of dimensions of the GloVe word embeddings"
   ]
  },
  {
   "cell_type": "code",
   "execution_count": 72,
   "metadata": {},
   "outputs": [],
   "source": [
    "def deep_model(model, X_train, y_train, X_valid, y_valid):\n",
    "    '''\n",
    "    Function to train a multi-class model. The number of epochs and \n",
    "    batch_size are set by the constants at the top of the\n",
    "    notebook. \n",
    "    Parameters:\n",
    "        model : model with the chosen architecture\n",
    "        X_train : training features\n",
    "        y_train : training target\n",
    "        X_valid : validation features\n",
    "        Y_valid : validation target\n",
    "    Output:\n",
    "        model training history\n",
    "    '''\n",
    "    model.compile(optimizer='rmsprop'\n",
    "                  , loss='categorical_crossentropy'\n",
    "                  , metrics=['accuracy'])\n",
    "    \n",
    "    history = model.fit(X_train\n",
    "                       , y_train\n",
    "                       , epochs=NB_START_EPOCHS\n",
    "                       , batch_size=BATCH_SIZE\n",
    "                       , validation_data=(X_valid, y_valid)\n",
    "                       , verbose=1)\n",
    "    return history\n"
   ]
  },
  {
   "cell_type": "code",
   "execution_count": 73,
   "metadata": {},
   "outputs": [],
   "source": [
    "def eval_metric(history, metric_name):\n",
    "    '''\n",
    "    Function to evaluate a trained model on a chosen metric. \n",
    "    Training and validation metric are plotted in a\n",
    "    line chart for each epoch.\n",
    "    \n",
    "    Parameters:\n",
    "        history : model training history\n",
    "        metric_name : loss or accuracy\n",
    "    Output:\n",
    "        line chart with epochs of x-axis and metric on\n",
    "        y-axis\n",
    "    '''\n",
    "    metric = history.history[metric_name]\n",
    "    val_metric = history.history['val_' + metric_name]\n",
    "\n",
    "    e = range(1, NB_START_EPOCHS + 1)\n",
    "\n",
    "    plt.plot(e, metric, 'bo', label='Train ' + metric_name)\n",
    "    plt.plot(e, val_metric, 'b', label='Validation ' + metric_name)\n",
    "    plt.legend()\n",
    "    plt.show()\n",
    "\n",
    "def test_model(model, X_train, y_train, X_test, y_test, epoch_stop):\n",
    "    '''\n",
    "    Function to test the model on new data after training it\n",
    "    on the full training data with the optimal number of epochs.\n",
    "    \n",
    "    Parameters:\n",
    "        model : trained model\n",
    "        X_train : training features\n",
    "        y_train : training target\n",
    "        X_test : test features\n",
    "        y_test : test target\n",
    "        epochs : optimal number of epochs\n",
    "    Output:\n",
    "        test accuracy and test loss\n",
    "    '''\n",
    "    model.fit(X_train\n",
    "              , y_train\n",
    "              , epochs=epoch_stop\n",
    "              , batch_size=BATCH_SIZE\n",
    "              , verbose=0)\n",
    "    results = model.evaluate(X_test, y_test)\n",
    "    \n",
    "    return results"
   ]
  },
  {
   "cell_type": "code",
   "execution_count": 74,
   "metadata": {},
   "outputs": [],
   "source": [
    "\n",
    "def remove_stopwords(input_text):\n",
    "    '''\n",
    "    Function to remove English stopwords from a Pandas Series.\n",
    "    \n",
    "    Parameters:\n",
    "        input_text : text to clean\n",
    "    Output:\n",
    "        cleaned Pandas Series \n",
    "    '''\n",
    "    stopwords_list = stopwords.words('english')\n",
    "    # Some words which might indicate a certain sentiment are kept via a whitelist\n",
    "    whitelist = [\"n't\", \"not\", \"no\"]\n",
    "    words = input_text.split() \n",
    "    clean_words = [word for word in words if (word not in stopwords_list or word in whitelist) and len(word) > 1] \n",
    "    return \" \".join(clean_words) \n",
    "    \n",
    "def remove_mentions(input_text):\n",
    "    '''\n",
    "    Function to remove mentions, preceded by @, in a Pandas Series\n",
    "    \n",
    "    Parameters:\n",
    "        input_text : text to clean\n",
    "    Output:\n",
    "        cleaned Pandas Series \n",
    "    '''\n",
    "    return re.sub(r'@\\w+', '', input_text)"
   ]
  },
  {
   "cell_type": "code",
   "execution_count": 75,
   "metadata": {
    "scrolled": true
   },
   "outputs": [],
   "source": [
    "df = pd.read_csv(r'C:\\Users\\HPPC\\Tweets.csv',encoding = 'utf-8')\n",
    "df = df.reindex(np.random.permutation(df.index))  \n",
    "df = df[['text', 'airline_sentiment']]\n",
    "df.text = df.text.apply(remove_stopwords).apply(remove_mentions)"
   ]
  },
  {
   "cell_type": "code",
   "execution_count": 76,
   "metadata": {},
   "outputs": [
    {
     "name": "stdout",
     "output_type": "stream",
     "text": [
      "# Train data samples: 13176\n",
      "# Test data samples: 1464\n"
     ]
    }
   ],
   "source": [
    "X_train, X_test, y_train, y_test = train_test_split(df.text, df.airline_sentiment, test_size=0.1, random_state=37)\n",
    "print('# Train data samples:', X_train.shape[0])\n",
    "print('# Test data samples:', X_test.shape[0])\n",
    "assert X_train.shape[0] == y_train.shape[0]\n",
    "assert X_test.shape[0] == y_test.shape[0]"
   ]
  },
  {
   "cell_type": "code",
   "execution_count": 77,
   "metadata": {},
   "outputs": [],
   "source": [
    "tk = Tokenizer(num_words=NB_WORDS,\n",
    "               filters='!\"#$%&()*+,-./:;<=>?@[\\\\]^_`{|}~\\t\\n',\n",
    "               lower=True,\n",
    "               split=\" \")\n",
    "tk.fit_on_texts(X_train)\n",
    "\n",
    "X_train_seq = tk.texts_to_sequences(X_train)\n",
    "X_test_seq = tk.texts_to_sequences(X_test)"
   ]
  },
  {
   "cell_type": "code",
   "execution_count": 78,
   "metadata": {},
   "outputs": [
    {
     "data": {
      "text/plain": [
       "count    13176.000000\n",
       "mean        11.161658\n",
       "std          4.215267\n",
       "min          1.000000\n",
       "25%          8.000000\n",
       "50%         12.000000\n",
       "75%         14.000000\n",
       "max         24.000000\n",
       "Name: text, dtype: float64"
      ]
     },
     "execution_count": 78,
     "metadata": {},
     "output_type": "execute_result"
    }
   ],
   "source": [
    "seq_lengths = X_train.apply(lambda x: len(x.split(' ')))\n",
    "seq_lengths.describe()"
   ]
  },
  {
   "cell_type": "code",
   "execution_count": null,
   "metadata": {},
   "outputs": [],
   "source": []
  },
  {
   "cell_type": "code",
   "execution_count": 79,
   "metadata": {},
   "outputs": [],
   "source": [
    "X_train_seq_trunc = pad_sequences(X_train_seq, maxlen=MAX_LEN)\n",
    "X_test_seq_trunc = pad_sequences(X_test_seq, maxlen=MAX_LEN)"
   ]
  },
  {
   "cell_type": "code",
   "execution_count": 106,
   "metadata": {},
   "outputs": [
    {
     "data": {
      "text/plain": [
       "array([[   0,    0,    0, ..., 2281, 1162, 1572],\n",
       "       [   0,    0,    0, ..., 2282,  399,   22],\n",
       "       [   0,    0,    0, ...,  214,   79,  588],\n",
       "       ...,\n",
       "       [   0,    0,    0, ...,   89,  218,  179],\n",
       "       [   0,    0,    0, ...,  770,  497, 5478],\n",
       "       [   0,    0,    0, ...,   17,  344, 2019]])"
      ]
     },
     "execution_count": 106,
     "metadata": {},
     "output_type": "execute_result"
    }
   ],
   "source": [
    "X_train_seq_trunc"
   ]
  },
  {
   "cell_type": "code",
   "execution_count": 80,
   "metadata": {},
   "outputs": [
    {
     "data": {
      "text/plain": [
       "array([   0,    0,    0,    0,    0,    0,    0,    0,    0,  214, 1573,\n",
       "       1163,   45,  648,  831, 1214,  624,  671,    1,  112,   69,  402,\n",
       "         60,  935])"
      ]
     },
     "execution_count": 80,
     "metadata": {},
     "output_type": "execute_result"
    }
   ],
   "source": [
    "X_train_seq_trunc[10]  # Example of padded sequence"
   ]
  },
  {
   "cell_type": "code",
   "execution_count": 81,
   "metadata": {},
   "outputs": [],
   "source": [
    "le = LabelEncoder()\n",
    "y_train_le = le.fit_transform(y_train)\n",
    "y_test_le = le.transform(y_test)\n",
    "y_train_oh = to_categorical(y_train_le)\n",
    "y_test_oh = to_categorical(y_test_le)"
   ]
  },
  {
   "cell_type": "code",
   "execution_count": 114,
   "metadata": {},
   "outputs": [
    {
     "data": {
      "text/plain": [
       "array([1., 0., 0.], dtype=float32)"
      ]
     },
     "execution_count": 114,
     "metadata": {},
     "output_type": "execute_result"
    }
   ],
   "source": [
    "y_test_oh[10]"
   ]
  },
  {
   "cell_type": "code",
   "execution_count": 115,
   "metadata": {},
   "outputs": [
    {
     "name": "stdout",
     "output_type": "stream",
     "text": [
      "Shape of validation set: (1318, 24)\n"
     ]
    }
   ],
   "source": [
    "X_train_emb, X_valid_emb, y_train_emb, y_valid_emb = train_test_split(X_train_seq_trunc, y_train_oh, test_size=0.1, random_state=37)\n",
    "\n",
    "assert X_valid_emb.shape[0] == y_valid_emb.shape[0]\n",
    "assert X_train_emb.shape[0] == y_train_emb.shape[0]\n",
    "\n",
    "print('Shape of validation set:',X_valid_emb.shape)"
   ]
  },
  {
   "cell_type": "code",
   "execution_count": 83,
   "metadata": {},
   "outputs": [
    {
     "name": "stdout",
     "output_type": "stream",
     "text": [
      "Model: \"sequential_5\"\n",
      "_________________________________________________________________\n",
      "Layer (type)                 Output Shape              Param #   \n",
      "=================================================================\n",
      "embedding_5 (Embedding)      (None, 24, 8)             80000     \n",
      "_________________________________________________________________\n",
      "flatten_5 (Flatten)          (None, 192)               0         \n",
      "_________________________________________________________________\n",
      "dense_5 (Dense)              (None, 3)                 579       \n",
      "=================================================================\n",
      "Total params: 80,579\n",
      "Trainable params: 80,579\n",
      "Non-trainable params: 0\n",
      "_________________________________________________________________\n"
     ]
    }
   ],
   "source": [
    "emb_model = models.Sequential()\n",
    "emb_model.add(layers.Embedding(NB_WORDS, 8, input_length=MAX_LEN))\n",
    "emb_model.add(layers.Flatten())\n",
    "emb_model.add(layers.Dense(3, activation='softmax'))\n",
    "emb_model.summary()"
   ]
  },
  {
   "cell_type": "code",
   "execution_count": 84,
   "metadata": {},
   "outputs": [
    {
     "name": "stderr",
     "output_type": "stream",
     "text": [
      "C:\\ProgramData\\Anaconda3\\lib\\site-packages\\tensorflow_core\\python\\framework\\indexed_slices.py:424: UserWarning: Converting sparse IndexedSlices to a dense Tensor of unknown shape. This may consume a large amount of memory.\n",
      "  \"Converting sparse IndexedSlices to a dense Tensor of unknown shape. \"\n"
     ]
    },
    {
     "name": "stdout",
     "output_type": "stream",
     "text": [
      "Train on 11858 samples, validate on 1318 samples\n",
      "Epoch 1/20\n",
      "11858/11858 [==============================] - 1s 85us/step - loss: 1.0465 - accuracy: 0.5714 - val_loss: 0.9842 - val_accuracy: 0.6404\n",
      "Epoch 2/20\n",
      "11858/11858 [==============================] - 1s 44us/step - loss: 0.9439 - accuracy: 0.6234 - val_loss: 0.8945 - val_accuracy: 0.6404\n",
      "Epoch 3/20\n",
      "11858/11858 [==============================] - 0s 39us/step - loss: 0.8711 - accuracy: 0.6234 - val_loss: 0.8387 - val_accuracy: 0.6404\n",
      "Epoch 4/20\n",
      "11858/11858 [==============================] - 1s 44us/step - loss: 0.8165 - accuracy: 0.6268 - val_loss: 0.7931 - val_accuracy: 0.6419\n",
      "Epoch 5/20\n",
      "11858/11858 [==============================] - 0s 42us/step - loss: 0.7697 - accuracy: 0.6509 - val_loss: 0.7571 - val_accuracy: 0.6684\n",
      "Epoch 6/20\n",
      "11858/11858 [==============================] - 1s 49us/step - loss: 0.7312 - accuracy: 0.6786 - val_loss: 0.7305 - val_accuracy: 0.6851\n",
      "Epoch 7/20\n",
      "11858/11858 [==============================] - 1s 58us/step - loss: 0.6982 - accuracy: 0.6913 - val_loss: 0.7078 - val_accuracy: 0.6935\n",
      "Epoch 8/20\n",
      "11858/11858 [==============================] - ETA: 0s - loss: 0.6678 - accuracy: 0.70 - 1s 44us/step - loss: 0.6671 - accuracy: 0.7007 - val_loss: 0.6860 - val_accuracy: 0.6995\n",
      "Epoch 9/20\n",
      "11858/11858 [==============================] - 1s 50us/step - loss: 0.6369 - accuracy: 0.7170 - val_loss: 0.6678 - val_accuracy: 0.7155\n",
      "Epoch 10/20\n",
      "11858/11858 [==============================] - 1s 50us/step - loss: 0.6090 - accuracy: 0.7405 - val_loss: 0.6517 - val_accuracy: 0.7223\n",
      "Epoch 11/20\n",
      "11858/11858 [==============================] - 1s 43us/step - loss: 0.5826 - accuracy: 0.7615 - val_loss: 0.6376 - val_accuracy: 0.7314\n",
      "Epoch 12/20\n",
      "11858/11858 [==============================] - 1s 51us/step - loss: 0.5586 - accuracy: 0.7770 - val_loss: 0.6250 - val_accuracy: 0.7436\n",
      "Epoch 13/20\n",
      "11858/11858 [==============================] - 1s 49us/step - loss: 0.5359 - accuracy: 0.7930 - val_loss: 0.6139 - val_accuracy: 0.7648s - loss: 0.5352 - accura\n",
      "Epoch 14/20\n",
      "11858/11858 [==============================] - 1s 51us/step - loss: 0.5144 - accuracy: 0.8129 - val_loss: 0.6059 - val_accuracy: 0.7671\n",
      "Epoch 15/20\n",
      "11858/11858 [==============================] - 1s 47us/step - loss: 0.4940 - accuracy: 0.8243 - val_loss: 0.5968 - val_accuracy: 0.7739\n",
      "Epoch 16/20\n",
      "11858/11858 [==============================] - 1s 51us/step - loss: 0.4740 - accuracy: 0.8338 - val_loss: 0.5890 - val_accuracy: 0.7747\n",
      "Epoch 17/20\n",
      "11858/11858 [==============================] - 1s 48us/step - loss: 0.4555 - accuracy: 0.8447 - val_loss: 0.5816 - val_accuracy: 0.7807\n",
      "Epoch 18/20\n",
      "11858/11858 [==============================] - 1s 54us/step - loss: 0.4372 - accuracy: 0.8535 - val_loss: 0.5754 - val_accuracy: 0.7830\n",
      "Epoch 19/20\n",
      "11858/11858 [==============================] - 1s 47us/step - loss: 0.4196 - accuracy: 0.8621 - val_loss: 0.5699 - val_accuracy: 0.7845\n",
      "Epoch 20/20\n",
      "11858/11858 [==============================] - 1s 46us/step - loss: 0.4026 - accuracy: 0.8683 - val_loss: 0.5651 - val_accuracy: 0.7891\n"
     ]
    }
   ],
   "source": [
    "emb_history = deep_model(emb_model, X_train_emb, y_train_emb, X_valid_emb, y_valid_emb)"
   ]
  },
  {
   "cell_type": "code",
   "execution_count": 85,
   "metadata": {},
   "outputs": [
    {
     "data": {
      "image/png": "[encoded data removed]",
      "text/plain": [
       "<Figure size 432x288 with 1 Axes>"
      ]
     },
     "metadata": {
      "needs_background": "light"
     },
     "output_type": "display_data"
    }
   ],
   "source": [
    "eval_metric(emb_history, 'loss')"
   ]
  },
  {
   "cell_type": "code",
   "execution_count": 86,
   "metadata": {},
   "outputs": [
    {
     "data": {
      "image/png": "[encoded data removed]",
      "text/plain": [
       "<Figure size 432x288 with 1 Axes>"
      ]
     },
     "metadata": {
      "needs_background": "light"
     },
     "output_type": "display_data"
    }
   ],
   "source": [
    "eval_metric(emb_history, 'accuracy')"
   ]
  },
  {
   "cell_type": "code",
   "execution_count": 87,
   "metadata": {},
   "outputs": [
    {
     "name": "stdout",
     "output_type": "stream",
     "text": [
      "1464/1464 [==============================] - 0s 172us/step\n",
      "/n\n",
      "Test accuracy of word embeddings model: 79.51%\n"
     ]
    }
   ],
   "source": [
    "emb_results = test_model(emb_model, X_train_seq_trunc, y_train_oh, X_test_seq_trunc, y_test_oh, 6)\n",
    "print('/n')\n",
    "print('Test accuracy of word embeddings model: {0:.2f}%'.format(emb_results[1]*100))"
   ]
  },
  {
   "cell_type": "code",
   "execution_count": null,
   "metadata": {},
   "outputs": [],
   "source": []
  },
  {
   "cell_type": "code",
   "execution_count": 88,
   "metadata": {},
   "outputs": [],
   "source": [
    "#glove_file = 'glove.twitter.27B.' + str(GLOVE_DIM) + 'd.txt'\n",
    "emb_dict = {}\n",
    "glove = open(r'C:\\Users\\HPPC\\glove.twitter.27B.50d.txt',encoding = 'utf-8')\n",
    "for line in glove:\n",
    "    values = line.split()\n",
    "    word = values[0]\n",
    "    vector = np.asarray(values[1:], dtype='float32')\n",
    "    emb_dict[word] = vector\n",
    "glove.close()"
   ]
  },
  {
   "cell_type": "code",
   "execution_count": 125,
   "metadata": {},
   "outputs": [
    {
     "data": {
      "text/plain": [
       "array([-0.81025  ,  0.065925 ,  0.037334 ,  0.20972  , -1.0245   ,\n",
       "        0.12996  ,  0.89665  , -0.89213  ,  0.90432  , -0.17672  ,\n",
       "        0.10469  , -0.059729 , -2.1969   ,  0.045489 ,  0.55135  ,\n",
       "        0.037913 , -0.16072  , -0.23501  ,  0.10547  ,  0.036028 ,\n",
       "       -0.1099   , -0.54038  ,  0.53394  , -0.47578  , -0.29356  ,\n",
       "        0.67219  , -1.2894   , -0.01972  , -0.24386  ,  0.35355  ,\n",
       "       -0.22151  ,  0.099795 ,  0.41025  , -1.2657   ,  0.67407  ,\n",
       "        0.8334   ,  0.48999  ,  0.12838  ,  0.68459  , -0.31924  ,\n",
       "        0.40274  ,  0.74228  , -0.71629  , -0.98246  ,  0.25153  ,\n",
       "        0.90011  , -0.26397  ,  0.30161  ,  0.0097203,  1.3439   ],\n",
       "      dtype=float32)"
      ]
     },
     "execution_count": 125,
     "metadata": {},
     "output_type": "execute_result"
    }
   ],
   "source": [
    "emb_dict['airplane']"
   ]
  },
  {
   "cell_type": "code",
   "execution_count": 89,
   "metadata": {},
   "outputs": [
    {
     "name": "stdout",
     "output_type": "stream",
     "text": [
      "Found the word airplane in the dictionary\n",
      "Found the word airline in the dictionary\n",
      "Found the word flight in the dictionary\n",
      "Found the word luggage in the dictionary\n"
     ]
    }
   ],
   "source": [
    "airline_words = ['airplane', 'airline', 'flight', 'luggage']\n",
    "for w in airline_words:\n",
    "    if w in emb_dict.keys():\n",
    "        print('Found the word {} in the dictionary'.format(w))"
   ]
  },
  {
   "cell_type": "code",
   "execution_count": 90,
   "metadata": {},
   "outputs": [],
   "source": [
    "emb_matrix = np.zeros((NB_WORDS, 50))\n",
    "\n",
    "for w, i in tk.word_index.items():\n",
    "    # The word_index contains a token for all words of the training data so we need to limit that\n",
    "    if i < NB_WORDS:\n",
    "        vect = emb_dict.get(w)\n",
    "        # Check if the word from the training data occurs in the GloVe word embeddings\n",
    "        # Otherwise the vector is kept with only zeros\n",
    "        if vect is not None:\n",
    "            emb_matrix[i] = vect\n",
    "    else:\n",
    "        break"
   ]
  },
  {
   "cell_type": "code",
   "execution_count": null,
   "metadata": {},
   "outputs": [],
   "source": []
  },
  {
   "cell_type": "code",
   "execution_count": 91,
   "metadata": {},
   "outputs": [
    {
     "name": "stdout",
     "output_type": "stream",
     "text": [
      "Model: \"sequential_6\"\n",
      "_________________________________________________________________\n",
      "Layer (type)                 Output Shape              Param #   \n",
      "=================================================================\n",
      "embedding_6 (Embedding)      (None, 24, 50)            500000    \n",
      "_________________________________________________________________\n",
      "flatten_6 (Flatten)          (None, 1200)              0         \n",
      "_________________________________________________________________\n",
      "dense_6 (Dense)              (None, 3)                 3603      \n",
      "=================================================================\n",
      "Total params: 503,603\n",
      "Trainable params: 503,603\n",
      "Non-trainable params: 0\n",
      "_________________________________________________________________\n"
     ]
    }
   ],
   "source": [
    "glove_model = models.Sequential()\n",
    "glove_model.add(layers.Embedding(NB_WORDS, GLOVE_DIM, input_length=MAX_LEN))\n",
    "glove_model.add(layers.Flatten())\n",
    "glove_model.add(layers.Dense(3, activation='softmax'))\n",
    "glove_model.summary()"
   ]
  },
  {
   "cell_type": "code",
   "execution_count": 92,
   "metadata": {},
   "outputs": [],
   "source": [
    "glove_model.layers[0].set_weights([emb_matrix])\n",
    "glove_model.layers[0].trainable = False"
   ]
  },
  {
   "cell_type": "code",
   "execution_count": 127,
   "metadata": {},
   "outputs": [
    {
     "data": {
      "text/plain": [
       "[<keras.layers.embeddings.Embedding at 0x1f4cc2be828>,\n",
       " <keras.layers.core.Flatten at 0x1f4cc2be9e8>,\n",
       " <keras.layers.core.Dense at 0x1f4b178fc88>]"
      ]
     },
     "execution_count": 127,
     "metadata": {},
     "output_type": "execute_result"
    }
   ],
   "source": [
    "glove_model.layers[0]"
   ]
  },
  {
   "cell_type": "code",
   "execution_count": 93,
   "metadata": {},
   "outputs": [
    {
     "name": "stdout",
     "output_type": "stream",
     "text": [
      "Train on 11858 samples, validate on 1318 samples\n",
      "Epoch 1/20\n",
      "11858/11858 [==============================] - 1s 118us/step - loss: 0.8336 - accuracy: 0.6435 - val_loss: 0.7464 - val_accuracy: 0.7033\n",
      "Epoch 2/20\n",
      "11858/11858 [==============================] - 1s 76us/step - loss: 0.7257 - accuracy: 0.7053 - val_loss: 0.6936 - val_accuracy: 0.7269\n",
      "Epoch 3/20\n",
      "11858/11858 [==============================] - 1s 67us/step - loss: 0.6748 - accuracy: 0.7329 - val_loss: 0.6614 - val_accuracy: 0.7360\n",
      "Epoch 4/20\n",
      "11858/11858 [==============================] - 1s 71us/step - loss: 0.6422 - accuracy: 0.7471 - val_loss: 0.6424 - val_accuracy: 0.7451\n",
      "Epoch 5/20\n",
      "11858/11858 [==============================] - 1s 70us/step - loss: 0.6206 - accuracy: 0.7538 - val_loss: 0.6279 - val_accuracy: 0.7534\n",
      "Epoch 6/20\n",
      "11858/11858 [==============================] - 1s 62us/step - loss: 0.6044 - accuracy: 0.7601 - val_loss: 0.6182 - val_accuracy: 0.7564\n",
      "Epoch 7/20\n",
      "11858/11858 [==============================] - 1s 75us/step - loss: 0.5917 - accuracy: 0.7672 - val_loss: 0.6129 - val_accuracy: 0.7602\n",
      "Epoch 8/20\n",
      "11858/11858 [==============================] - 1s 66us/step - loss: 0.5834 - accuracy: 0.7694 - val_loss: 0.6095 - val_accuracy: 0.7595\n",
      "Epoch 9/20\n",
      "11858/11858 [==============================] - 1s 75us/step - loss: 0.5754 - accuracy: 0.7698 - val_loss: 0.6063 - val_accuracy: 0.7587\n",
      "Epoch 10/20\n",
      "11858/11858 [==============================] - 1s 73us/step - loss: 0.5686 - accuracy: 0.7754 - val_loss: 0.6050 - val_accuracy: 0.7640\n",
      "Epoch 11/20\n",
      "11858/11858 [==============================] - 1s 71us/step - loss: 0.5643 - accuracy: 0.7738 - val_loss: 0.6095 - val_accuracy: 0.7633\n",
      "Epoch 12/20\n",
      "11858/11858 [==============================] - 1s 83us/step - loss: 0.5600 - accuracy: 0.7769 - val_loss: 0.6029 - val_accuracy: 0.7648\n",
      "Epoch 13/20\n",
      "11858/11858 [==============================] - 1s 84us/step - loss: 0.5557 - accuracy: 0.7779 - val_loss: 0.6009 - val_accuracy: 0.7587\n",
      "Epoch 14/20\n",
      "11858/11858 [==============================] - 1s 76us/step - loss: 0.5528 - accuracy: 0.7778 - val_loss: 0.5993 - val_accuracy: 0.7610\n",
      "Epoch 15/20\n",
      "11858/11858 [==============================] - 1s 79us/step - loss: 0.5500 - accuracy: 0.7791 - val_loss: 0.6018 - val_accuracy: 0.7648\n",
      "Epoch 16/20\n",
      "11858/11858 [==============================] - 1s 79us/step - loss: 0.5472 - accuracy: 0.7780 - val_loss: 0.5998 - val_accuracy: 0.7610\n",
      "Epoch 17/20\n",
      "11858/11858 [==============================] - 1s 76us/step - loss: 0.5452 - accuracy: 0.7811 - val_loss: 0.5976 - val_accuracy: 0.7625\n",
      "Epoch 18/20\n",
      "11858/11858 [==============================] - 1s 70us/step - loss: 0.5427 - accuracy: 0.7805 - val_loss: 0.5980 - val_accuracy: 0.7640\n",
      "Epoch 19/20\n",
      "11858/11858 [==============================] - 1s 70us/step - loss: 0.5408 - accuracy: 0.7807 - val_loss: 0.5990 - val_accuracy: 0.7633\n",
      "Epoch 20/20\n",
      "11858/11858 [==============================] - 1s 86us/step - loss: 0.5388 - accuracy: 0.7816 - val_loss: 0.6013 - val_accuracy: 0.7709\n"
     ]
    }
   ],
   "source": [
    "glove_history = deep_model(glove_model, X_train_emb, y_train_emb, X_valid_emb, y_valid_emb)"
   ]
  },
  {
   "cell_type": "code",
   "execution_count": 94,
   "metadata": {},
   "outputs": [
    {
     "data": {
      "image/png": "[encoded data removed]",
      "text/plain": [
       "<Figure size 432x288 with 1 Axes>"
      ]
     },
     "metadata": {
      "needs_background": "light"
     },
     "output_type": "display_data"
    }
   ],
   "source": [
    "eval_metric(glove_history, 'loss')"
   ]
  },
  {
   "cell_type": "code",
   "execution_count": 95,
   "metadata": {},
   "outputs": [
    {
     "data": {
      "image/png": "[encoded data removed]",
      "text/plain": [
       "<Figure size 432x288 with 1 Axes>"
      ]
     },
     "metadata": {
      "needs_background": "light"
     },
     "output_type": "display_data"
    }
   ],
   "source": [
    "eval_metric(glove_history, 'accuracy')"
   ]
  },
  {
   "cell_type": "code",
   "execution_count": 96,
   "metadata": {},
   "outputs": [
    {
     "name": "stdout",
     "output_type": "stream",
     "text": [
      "1464/1464 [==============================] - 0s 210us/step\n",
      "/n\n",
      "Test accuracy of word glove model: 76.23%\n"
     ]
    }
   ],
   "source": [
    "glove_results = test_model(glove_model, X_train_seq_trunc, y_train_oh, X_test_seq_trunc, y_test_oh, 3)\n",
    "print('/n')\n",
    "print('Test accuracy of word glove model: {0:.2f}%'.format(glove_results[1]*100))\n"
   ]
  },
  {
   "cell_type": "code",
   "execution_count": 97,
   "metadata": {},
   "outputs": [
    {
     "name": "stdout",
     "output_type": "stream",
     "text": [
      "Model: \"sequential_7\"\n",
      "_________________________________________________________________\n",
      "Layer (type)                 Output Shape              Param #   \n",
      "=================================================================\n",
      "embedding_7 (Embedding)      (None, 24, 50)            500000    \n",
      "_________________________________________________________________\n",
      "flatten_7 (Flatten)          (None, 1200)              0         \n",
      "_________________________________________________________________\n",
      "dense_7 (Dense)              (None, 3)                 3603      \n",
      "=================================================================\n",
      "Total params: 503,603\n",
      "Trainable params: 503,603\n",
      "Non-trainable params: 0\n",
      "_________________________________________________________________\n"
     ]
    }
   ],
   "source": [
    "emb_model2 = models.Sequential()\n",
    "emb_model2.add(layers.Embedding(NB_WORDS, GLOVE_DIM, input_length=MAX_LEN))\n",
    "emb_model2.add(layers.Flatten())\n",
    "emb_model2.add(layers.Dense(3, activation='softmax'))\n",
    "emb_model2.summary()"
   ]
  },
  {
   "cell_type": "code",
   "execution_count": 98,
   "metadata": {},
   "outputs": [
    {
     "name": "stderr",
     "output_type": "stream",
     "text": [
      "C:\\ProgramData\\Anaconda3\\lib\\site-packages\\tensorflow_core\\python\\framework\\indexed_slices.py:424: UserWarning: Converting sparse IndexedSlices to a dense Tensor of unknown shape. This may consume a large amount of memory.\n",
      "  \"Converting sparse IndexedSlices to a dense Tensor of unknown shape. \"\n"
     ]
    },
    {
     "name": "stdout",
     "output_type": "stream",
     "text": [
      "Train on 11858 samples, validate on 1318 samples\n",
      "Epoch 1/20\n",
      "11858/11858 [==============================] - 3s 265us/step - loss: 0.9429 - accuracy: 0.6208 - val_loss: 0.8481 - val_accuracy: 0.6404\n",
      "Epoch 2/20\n",
      "11858/11858 [==============================] - 2s 202us/step - loss: 0.8111 - accuracy: 0.6359 - val_loss: 0.7644 - val_accuracy: 0.6540\n",
      "Epoch 3/20\n",
      "11858/11858 [==============================] - 3s 212us/step - loss: 0.7237 - accuracy: 0.6749 - val_loss: 0.7105 - val_accuracy: 0.7041\n",
      "Epoch 4/20\n",
      "11858/11858 [==============================] - 2s 189us/step - loss: 0.6457 - accuracy: 0.7287 - val_loss: 0.6566 - val_accuracy: 0.7238\n",
      "Epoch 5/20\n",
      "11858/11858 [==============================] - 4s 295us/step - loss: 0.5742 - accuracy: 0.7791 - val_loss: 0.6193 - val_accuracy: 0.7451\n",
      "Epoch 6/20\n",
      "11858/11858 [==============================] - 4s 296us/step - loss: 0.5121 - accuracy: 0.8168 - val_loss: 0.5898 - val_accuracy: 0.7777\n",
      "Epoch 7/20\n",
      "11858/11858 [==============================] - 3s 236us/step - loss: 0.4581 - accuracy: 0.8444 - val_loss: 0.5692 - val_accuracy: 0.7822\n",
      "Epoch 8/20\n",
      "11858/11858 [==============================] - 3s 224us/step - loss: 0.4106 - accuracy: 0.8684 - val_loss: 0.5528 - val_accuracy: 0.7898\n",
      "Epoch 9/20\n",
      "11858/11858 [==============================] - 3s 213us/step - loss: 0.3684 - accuracy: 0.8841 - val_loss: 0.5419 - val_accuracy: 0.7989\n",
      "Epoch 10/20\n",
      "11858/11858 [==============================] - 2s 205us/step - loss: 0.3314 - accuracy: 0.8974 - val_loss: 0.5349 - val_accuracy: 0.8027\n",
      "Epoch 11/20\n",
      "11858/11858 [==============================] - 2s 198us/step - loss: 0.2988 - accuracy: 0.9095 - val_loss: 0.5326 - val_accuracy: 0.8005\n",
      "Epoch 12/20\n",
      "11858/11858 [==============================] - 3s 219us/step - loss: 0.2691 - accuracy: 0.9190 - val_loss: 0.5324 - val_accuracy: 0.8012\n",
      "Epoch 13/20\n",
      "11858/11858 [==============================] - 3s 216us/step - loss: 0.2434 - accuracy: 0.9292 - val_loss: 0.5330 - val_accuracy: 0.7982\n",
      "Epoch 14/20\n",
      "11858/11858 [==============================] - 3s 225us/step - loss: 0.2197 - accuracy: 0.9365 - val_loss: 0.5378 - val_accuracy: 0.7989\n",
      "Epoch 15/20\n",
      "11858/11858 [==============================] - 3s 214us/step - loss: 0.1988 - accuracy: 0.9443 - val_loss: 0.5442 - val_accuracy: 0.7959\n",
      "Epoch 16/20\n",
      "11858/11858 [==============================] - 3s 224us/step - loss: 0.1792 - accuracy: 0.9505 - val_loss: 0.5493 - val_accuracy: 0.7936\n",
      "Epoch 17/20\n",
      "11858/11858 [==============================] - 3s 229us/step - loss: 0.1624 - accuracy: 0.9567 - val_loss: 0.5613 - val_accuracy: 0.7914\n",
      "Epoch 18/20\n",
      "11858/11858 [==============================] - 3s 245us/step - loss: 0.1465 - accuracy: 0.9604 - val_loss: 0.5701 - val_accuracy: 0.7944\n",
      "Epoch 19/20\n",
      "11858/11858 [==============================] - 3s 230us/step - loss: 0.1324 - accuracy: 0.9653 - val_loss: 0.5761 - val_accuracy: 0.7891\n",
      "Epoch 20/20\n",
      "11858/11858 [==============================] - 3s 225us/step - loss: 0.1200 - accuracy: 0.9702 - val_loss: 0.5875 - val_accuracy: 0.7838\n"
     ]
    }
   ],
   "source": [
    "emb_history2 = deep_model(emb_model2, X_train_emb, y_train_emb, X_valid_emb, y_valid_emb)"
   ]
  },
  {
   "cell_type": "code",
   "execution_count": 99,
   "metadata": {},
   "outputs": [
    {
     "data": {
      "image/png": "[encoded data removed]",
      "text/plain": [
       "<Figure size 432x288 with 1 Axes>"
      ]
     },
     "metadata": {
      "needs_background": "light"
     },
     "output_type": "display_data"
    }
   ],
   "source": [
    "eval_metric(glove_history, 'loss')"
   ]
  },
  {
   "cell_type": "code",
   "execution_count": 100,
   "metadata": {},
   "outputs": [
    {
     "data": {
      "image/png": "[encoded data removed]",
      "text/plain": [
       "<Figure size 432x288 with 1 Axes>"
      ]
     },
     "metadata": {
      "needs_background": "light"
     },
     "output_type": "display_data"
    }
   ],
   "source": [
    "eval_metric(glove_history, 'accuracy')"
   ]
  },
  {
   "cell_type": "code",
   "execution_count": 101,
   "metadata": {},
   "outputs": [
    {
     "name": "stdout",
     "output_type": "stream",
     "text": [
      "1464/1464 [==============================] - ETA: 0s - 0s 247us/step\n",
      "/n\n",
      "Test accuracy of word embedding model 2: 79.78%\n"
     ]
    }
   ],
   "source": [
    "emb_results2 = test_model(emb_model2, X_train_seq_trunc, y_train_oh, X_test_seq_trunc, y_test_oh, 3)\n",
    "print('/n')\n",
    "print('Test accuracy of word embedding model 2: {0:.2f}%'.format(emb_results2[1]*100))"
   ]
  },
  {
   "cell_type": "raw",
   "metadata": {},
   "source": [
    "ULMFit"
   ]
  },
  {
   "cell_type": "code",
   "execution_count": null,
   "metadata": {},
   "outputs": [],
   "source": []
  },
  {
   "cell_type": "code",
   "execution_count": 145,
   "metadata": {},
   "outputs": [],
   "source": [
    "# Basic packages\n",
    "import pandas as pd \n",
    "import numpy as np\n",
    "import re\n",
    "import collections\n",
    "import matplotlib.pyplot as plt\n",
    "\n",
    "# Modeling, selection, and evaluation\n",
    "#from fastai.text import *\n",
    "from sklearn.model_selection import train_test_split\n",
    "from sklearn.metrics import confusion_matrix, accuracy_score\n",
    "from sklearn.utils.multiclass import unique_labels\n",
    "\n",
    "%matplotlib inline "
   ]
  },
  {
   "cell_type": "code",
   "execution_count": 146,
   "metadata": {},
   "outputs": [
    {
     "data": {
      "text/html": [
       "<div>\n",
       "<style scoped>\n",
       "    .dataframe tbody tr th:only-of-type {\n",
       "        vertical-align: middle;\n",
       "    }\n",
       "\n",
       "    .dataframe tbody tr th {\n",
       "        vertical-align: top;\n",
       "    }\n",
       "\n",
       "    .dataframe thead th {\n",
       "        text-align: right;\n",
       "    }\n",
       "</style>\n",
       "<table border=\"1\" class=\"dataframe\">\n",
       "  <thead>\n",
       "    <tr style=\"text-align: right;\">\n",
       "      <th></th>\n",
       "      <th>tweet_id</th>\n",
       "      <th>airline_sentiment</th>\n",
       "      <th>airline_sentiment_confidence</th>\n",
       "      <th>negativereason</th>\n",
       "      <th>negativereason_confidence</th>\n",
       "      <th>airline</th>\n",
       "      <th>airline_sentiment_gold</th>\n",
       "      <th>name</th>\n",
       "      <th>negativereason_gold</th>\n",
       "      <th>retweet_count</th>\n",
       "      <th>text</th>\n",
       "      <th>tweet_coord</th>\n",
       "      <th>tweet_created</th>\n",
       "      <th>tweet_location</th>\n",
       "      <th>user_timezone</th>\n",
       "    </tr>\n",
       "  </thead>\n",
       "  <tbody>\n",
       "    <tr>\n",
       "      <th>8105</th>\n",
       "      <td>568785094430883840</td>\n",
       "      <td>positive</td>\n",
       "      <td>1.0000</td>\n",
       "      <td>NaN</td>\n",
       "      <td>NaN</td>\n",
       "      <td>Delta</td>\n",
       "      <td>NaN</td>\n",
       "      <td>AlanaMYzola</td>\n",
       "      <td>NaN</td>\n",
       "      <td>0</td>\n",
       "      <td>@JetBlue great flight! Great view! :-) http://t.co/Yxn00pnOav</td>\n",
       "      <td>NaN</td>\n",
       "      <td>2015-02-20 06:51:48 -0800</td>\n",
       "      <td>NaN</td>\n",
       "      <td>NaN</td>\n",
       "    </tr>\n",
       "    <tr>\n",
       "      <th>10025</th>\n",
       "      <td>569566323912671232</td>\n",
       "      <td>neutral</td>\n",
       "      <td>0.6402</td>\n",
       "      <td>NaN</td>\n",
       "      <td>0.0000</td>\n",
       "      <td>US Airways</td>\n",
       "      <td>NaN</td>\n",
       "      <td>helmsdanielle10</td>\n",
       "      <td>NaN</td>\n",
       "      <td>0</td>\n",
       "      <td>@USAirways Look into better service.</td>\n",
       "      <td>NaN</td>\n",
       "      <td>2015-02-22 10:36:08 -0800</td>\n",
       "      <td>NaN</td>\n",
       "      <td>NaN</td>\n",
       "    </tr>\n",
       "    <tr>\n",
       "      <th>12085</th>\n",
       "      <td>570297070998974464</td>\n",
       "      <td>positive</td>\n",
       "      <td>0.6497</td>\n",
       "      <td>NaN</td>\n",
       "      <td>0.0000</td>\n",
       "      <td>American</td>\n",
       "      <td>NaN</td>\n",
       "      <td>rakugojon</td>\n",
       "      <td>NaN</td>\n",
       "      <td>0</td>\n",
       "      <td>@AmericanAir got back eventually! Was a rollercoaster. Once I got to the airport &amp;amp; got to speak to someone things got fixed very quick.</td>\n",
       "      <td>NaN</td>\n",
       "      <td>2015-02-24 10:59:51 -0800</td>\n",
       "      <td>San Francisco</td>\n",
       "      <td>London</td>\n",
       "    </tr>\n",
       "    <tr>\n",
       "      <th>9906</th>\n",
       "      <td>569621412325023744</td>\n",
       "      <td>negative</td>\n",
       "      <td>1.0000</td>\n",
       "      <td>Customer Service Issue</td>\n",
       "      <td>0.6889</td>\n",
       "      <td>US Airways</td>\n",
       "      <td>NaN</td>\n",
       "      <td>OutsideHitter84</td>\n",
       "      <td>NaN</td>\n",
       "      <td>0</td>\n",
       "      <td>@USAirways I left an item on plane BOS-PHL on Friday.  I've called PHL US Airways # &amp;amp; left 6 msgs. No return call what to do at this point.</td>\n",
       "      <td>NaN</td>\n",
       "      <td>2015-02-22 14:15:02 -0800</td>\n",
       "      <td>NaN</td>\n",
       "      <td>NaN</td>\n",
       "    </tr>\n",
       "    <tr>\n",
       "      <th>14001</th>\n",
       "      <td>569678905344270336</td>\n",
       "      <td>positive</td>\n",
       "      <td>1.0000</td>\n",
       "      <td>NaN</td>\n",
       "      <td>NaN</td>\n",
       "      <td>American</td>\n",
       "      <td>NaN</td>\n",
       "      <td>stf_tsm</td>\n",
       "      <td>NaN</td>\n",
       "      <td>0</td>\n",
       "      <td>Thank you for sending more details  @AmericanAir: They're pretty handy dandy. more info here: http://t.co/FvlxIRh1F1 #LookforwardtoflywithAA</td>\n",
       "      <td>NaN</td>\n",
       "      <td>2015-02-22 18:03:29 -0800</td>\n",
       "      <td>NaN</td>\n",
       "      <td>NaN</td>\n",
       "    </tr>\n",
       "  </tbody>\n",
       "</table>\n",
       "</div>"
      ],
      "text/plain": [
       "                 tweet_id airline_sentiment  airline_sentiment_confidence  \\\n",
       "8105   568785094430883840  positive          1.0000                         \n",
       "10025  569566323912671232  neutral           0.6402                         \n",
       "12085  570297070998974464  positive          0.6497                         \n",
       "9906   569621412325023744  negative          1.0000                         \n",
       "14001  569678905344270336  positive          1.0000                         \n",
       "\n",
       "               negativereason  negativereason_confidence     airline  \\\n",
       "8105   NaN                    NaN                         Delta        \n",
       "10025  NaN                     0.0000                     US Airways   \n",
       "12085  NaN                     0.0000                     American     \n",
       "9906   Customer Service Issue  0.6889                     US Airways   \n",
       "14001  NaN                    NaN                         American     \n",
       "\n",
       "      airline_sentiment_gold             name negativereason_gold  \\\n",
       "8105   NaN                    AlanaMYzola      NaN                  \n",
       "10025  NaN                    helmsdanielle10  NaN                  \n",
       "12085  NaN                    rakugojon        NaN                  \n",
       "9906   NaN                    OutsideHitter84  NaN                  \n",
       "14001  NaN                    stf_tsm          NaN                  \n",
       "\n",
       "       retweet_count  \\\n",
       "8105   0               \n",
       "10025  0               \n",
       "12085  0               \n",
       "9906   0               \n",
       "14001  0               \n",
       "\n",
       "                                                                                                                                                  text  \\\n",
       "8105   @JetBlue great flight! Great view! :-) http://t.co/Yxn00pnOav                                                                                     \n",
       "10025  @USAirways Look into better service.                                                                                                              \n",
       "12085  @AmericanAir got back eventually! Was a rollercoaster. Once I got to the airport &amp; got to speak to someone things got fixed very quick.       \n",
       "9906   @USAirways I left an item on plane BOS-PHL on Friday.  I've called PHL US Airways # &amp; left 6 msgs. No return call what to do at this point.   \n",
       "14001  Thank you for sending more details  @AmericanAir: They're pretty handy dandy. more info here: http://t.co/FvlxIRh1F1 #LookforwardtoflywithAA      \n",
       "\n",
       "      tweet_coord              tweet_created tweet_location user_timezone  \n",
       "8105   NaN         2015-02-20 06:51:48 -0800  NaN            NaN           \n",
       "10025  NaN         2015-02-22 10:36:08 -0800  NaN            NaN           \n",
       "12085  NaN         2015-02-24 10:59:51 -0800  San Francisco  London        \n",
       "9906   NaN         2015-02-22 14:15:02 -0800  NaN            NaN           \n",
       "14001  NaN         2015-02-22 18:03:29 -0800  NaN            NaN           "
      ]
     },
     "execution_count": 146,
     "metadata": {},
     "output_type": "execute_result"
    }
   ],
   "source": [
    "# Read file into dataframe\n",
    "pd.set_option('display.max_colwidth', -1)\n",
    "df = pd.read_csv(r'C:\\Users\\HPPC\\Tweets.csv',encoding = 'utf-8')\n",
    "df = df.reindex(np.random.permutation(df.index))  \n",
    "df.head()"
   ]
  },
  {
   "cell_type": "code",
   "execution_count": 147,
   "metadata": {},
   "outputs": [
    {
     "data": {
      "text/plain": [
       "<matplotlib.axes._subplots.AxesSubplot at 0x1f4d10cba90>"
      ]
     },
     "execution_count": 147,
     "metadata": {},
     "output_type": "execute_result"
    },
    {
     "data": {
      "image/png": "[encoded data removed]",
      "text/plain": [
       "<Figure size 432x288 with 1 Axes>"
      ]
     },
     "metadata": {
      "needs_background": "light"
     },
     "output_type": "display_data"
    }
   ],
   "source": [
    "df['airline_sentiment'].value_counts().plot(kind='bar')"
   ]
  },
  {
   "cell_type": "code",
   "execution_count": 148,
   "metadata": {},
   "outputs": [
    {
     "data": {
      "text/plain": [
       "<matplotlib.axes._subplots.AxesSubplot at 0x1f4d10fc2b0>"
      ]
     },
     "execution_count": 148,
     "metadata": {},
     "output_type": "execute_result"
    },
    {
     "data": {
      "image/png": "[encoded data removed]",
      "text/plain": [
       "<Figure size 432x288 with 1 Axes>"
      ]
     },
     "metadata": {
      "needs_background": "light"
     },
     "output_type": "display_data"
    }
   ],
   "source": [
    "df.groupby(['airline', 'airline_sentiment']).size().unstack().plot(kind='bar', stacked=True)"
   ]
  },
  {
   "cell_type": "code",
   "execution_count": 149,
   "metadata": {},
   "outputs": [
    {
     "data": {
      "text/plain": [
       "<matplotlib.axes._subplots.AxesSubplot at 0x1f4d11582e8>"
      ]
     },
     "execution_count": 149,
     "metadata": {},
     "output_type": "execute_result"
    },
    {
     "data": {
      "image/png": "[encoded data removed]",
      "text/plain": [
       "<Figure size 432x288 with 1 Axes>"
      ]
     },
     "metadata": {
      "needs_background": "light"
     },
     "output_type": "display_data"
    }
   ],
   "source": [
    "df['tweet_length'] = df['text'].apply(len)\n",
    "df.groupby(['tweet_length', 'airline_sentiment']).size().unstack().plot(kind='line', stacked=False)"
   ]
  },
  {
   "cell_type": "code",
   "execution_count": 150,
   "metadata": {},
   "outputs": [
    {
     "data": {
      "text/plain": [
       "<matplotlib.axes._subplots.AxesSubplot at 0x1f4d13ad710>"
      ]
     },
     "execution_count": 150,
     "metadata": {},
     "output_type": "execute_result"
    },
    {
     "data": {
      "image/png": "[encoded data removed]",
      "text/plain": [
       "<Figure size 432x288 with 1 Axes>"
      ]
     },
     "metadata": {
      "needs_background": "light"
     },
     "output_type": "display_data"
    }
   ],
   "source": [
    "df[['tweet_length', 'airline_sentiment', 'airline_sentiment_confidence']].groupby(['tweet_length', 'airline_sentiment']).mean().unstack().plot(kind='line', stacked=False)"
   ]
  },
  {
   "cell_type": "code",
   "execution_count": 151,
   "metadata": {},
   "outputs": [],
   "source": [
    "test_percentage = 0.1\n",
    "df.sort_index(inplace=True)\n",
    "cutoff = int(test_percentage * df.shape[0])\n",
    "df[['airline_sentiment', 'text']][:cutoff].to_csv('Tweets_filtered_test.csv', index=False, encoding='utf-8')\n",
    "df[['airline_sentiment', 'text']][cutoff:].to_csv('Tweets_filtered_train.csv', index=False, encoding='utf-8')\n",
    "df[['text']][cutoff:].to_csv('Tweets_text_only_train.csv', index=False, encoding='utf-8')"
   ]
  },
  {
   "cell_type": "code",
   "execution_count": 152,
   "metadata": {},
   "outputs": [
    {
     "ename": "NameError",
     "evalue": "name 'TextClasDataBunch' is not defined",
     "output_type": "error",
     "traceback": [
      "\u001b[1;31m---------------------------------------------------------------------------\u001b[0m",
      "\u001b[1;31mNameError\u001b[0m                                 Traceback (most recent call last)",
      "\u001b[1;32m<ipython-input-152-04a6501423ad>\u001b[0m in \u001b[0;36m<module>\u001b[1;34m\u001b[0m\n\u001b[1;32m----> 1\u001b[1;33m \u001b[0mdata\u001b[0m \u001b[1;33m=\u001b[0m \u001b[0mTextClasDataBunch\u001b[0m\u001b[1;33m.\u001b[0m\u001b[0mfrom_csv\u001b[0m\u001b[1;33m(\u001b[0m\u001b[1;34m'.'\u001b[0m\u001b[1;33m,\u001b[0m \u001b[1;34m'Tweets_filtered_train.csv'\u001b[0m\u001b[1;33m)\u001b[0m\u001b[1;33m\u001b[0m\u001b[1;33m\u001b[0m\u001b[0m\n\u001b[0m\u001b[0;32m      2\u001b[0m \u001b[0mdata\u001b[0m\u001b[1;33m.\u001b[0m\u001b[0mshow_batch\u001b[0m\u001b[1;33m(\u001b[0m\u001b[1;33m)\u001b[0m\u001b[1;33m\u001b[0m\u001b[1;33m\u001b[0m\u001b[0m\n",
      "\u001b[1;31mNameError\u001b[0m: name 'TextClasDataBunch' is not defined"
     ]
    }
   ],
   "source": [
    "data = TextClasDataBunch.from_csv('.', 'Tweets_filtered_train.csv')\n",
    "data.show_batch()"
   ]
  },
  {
   "cell_type": "code",
   "execution_count": null,
   "metadata": {},
   "outputs": [],
   "source": [
    "!conda create -n env_pytorch python=3.6\n"
   ]
  },
  {
   "cell_type": "code",
   "execution_count": null,
   "metadata": {},
   "outputs": [],
   "source": [
    "source activate env_pytorch"
   ]
  },
  {
   "cell_type": "code",
   "execution_count": null,
   "metadata": {},
   "outputs": [],
   "source": [
    "!pip install torchvision --user"
   ]
  },
  {
   "cell_type": "code",
   "execution_count": null,
   "metadata": {},
   "outputs": [],
   "source": [
    "import torch\n",
    "import torchvision"
   ]
  },
  {
   "cell_type": "code",
   "execution_count": null,
   "metadata": {},
   "outputs": [],
   "source": [
    "from fastai.text import *"
   ]
  },
  {
   "cell_type": "code",
   "execution_count": null,
   "metadata": {},
   "outputs": [],
   "source": []
  }
 ],
 "metadata": {
  "kernelspec": {
   "display_name": "Python 3",
   "language": "python",
   "name": "python3"
  },
  "language_info": {
   "codemirror_mode": {
    "name": "ipython",
    "version": 3
   },
   "file_extension": ".py",
   "mimetype": "text/x-python",
   "name": "python",
   "nbconvert_exporter": "python",
   "pygments_lexer": "ipython3",
   "version": "3.7.3"
  }
 },
 "nbformat": 4,
 "nbformat_minor": 2
}
