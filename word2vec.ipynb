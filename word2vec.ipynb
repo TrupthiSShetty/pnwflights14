{
 "cells": [
  {
   "cell_type": "code",
   "execution_count": 1,
   "metadata": {},
   "outputs": [],
   "source": [
    "import pandas as pd\n",
    "import numpy as np\n",
    "import warnings\n",
    "warnings.filterwarnings('ignore')"
   ]
  },
  {
   "cell_type": "code",
   "execution_count": 3,
   "metadata": {},
   "outputs": [],
   "source": [
    "# Read the labeled training and test data\n",
    "# Header = 0 indicates that the first line of the file contains column names, \n",
    "# delimiter = \\t indicates that the fields are seperated by tabs, and \n",
    "# quoting = 3 tells python to ignore doubled quotes\n",
    "\n",
    "train = pd.read_csv(r'C:\\Users\\HPPC\\labeledTrainData.tsv', header = 0, delimiter = '\\t', quoting = 3)\n",
    "test = pd.read_csv(r'C:\\Users\\HPPC\\testData.tsv', header = 0, delimiter = '\\t', quoting = 3)\n",
    "unlabel_train = pd.read_csv(r'C:\\Users\\HPPC\\unlabeledTrainData.tsv', header = 0, delimiter = '\\t', quoting = 3)"
   ]
  },
  {
   "cell_type": "code",
   "execution_count": 4,
   "metadata": {},
   "outputs": [
    {
     "data": {
      "text/plain": [
       "'train dim:(25000, 3), unlabeled train dim:(50000, 2), test dim:(25000, 2)'"
      ]
     },
     "execution_count": 4,
     "metadata": {},
     "output_type": "execute_result"
    }
   ],
   "source": [
    "'train dim:{}, unlabeled train dim:{}, test dim:{}'.format(train.shape, unlabel_train.shape, test.shape)"
   ]
  },
  {
   "cell_type": "code",
   "execution_count": 5,
   "metadata": {},
   "outputs": [],
   "source": [
    "# Import the libraries for data cleaning.\n",
    "\n",
    "from bs4 import BeautifulSoup\n",
    "import re\n",
    "import nltk"
   ]
  },
  {
   "cell_type": "code",
   "execution_count": 6,
   "metadata": {},
   "outputs": [],
   "source": [
    "def preprocess_wordlist(data, stopwords = False):\n",
    "    \n",
    "    # Remove HTML tag\n",
    "    review = BeautifulSoup(data,'html.parser').get_text()\n",
    "    \n",
    "    # Remove non-letters\n",
    "    review = re.sub('[^a-zA-Z]', ' ', review)\n",
    "    \n",
    "    # Convert to lower case\n",
    "    review = review.lower()\n",
    "    \n",
    "    # Tokenize\n",
    "    word = nltk.word_tokenize(review)\n",
    "    \n",
    "    # Optional: Remove stop words (false by default)\n",
    "    if stopwords:\n",
    "        stops = set(nltk.corpus.stopwords.words(\"english\"))\n",
    "        \n",
    "        words = [w for w in word if not w in stops]\n",
    "    \n",
    "    return word"
   ]
  },
  {
   "cell_type": "code",
   "execution_count": 7,
   "metadata": {},
   "outputs": [],
   "source": [
    "def preprocess_sent(data, stopwords = False):\n",
    "    \n",
    "    # Split the paragraph into sentences\n",
    "    \n",
    "    #raw = tokenizer.tokenize(data.strip())\n",
    "    raw = nltk.sent_tokenize(data.strip())\n",
    "    \n",
    "    # If the length of the sentence is greater than 0, plug the sentence in the function preprocess_wordlist (clean the sentence)\n",
    "    sentences = [preprocess_wordlist(sent, stopwords) for sent in raw if len(sent) > 0]\n",
    "    \n",
    "    return sentences"
   ]
  },
  {
   "cell_type": "code",
   "execution_count": 8,
   "metadata": {},
   "outputs": [],
   "source": [
    "sentence = []\n",
    "\n",
    "# Append labeled reviews first\n",
    "for review in train['review']:\n",
    "    sentence += preprocess_sent(review)\n",
    "    \n",
    "# Append unlabeled reviews\n",
    "for review in unlabel_train['review']:\n",
    "    sentence += preprocess_sent(review)"
   ]
  },
  {
   "cell_type": "code",
   "execution_count": 10,
   "metadata": {},
   "outputs": [
    {
     "name": "stdout",
     "output_type": "stream",
     "text": [
      "795538\n",
      "\n",
      "[['with', 'all', 'this', 'stuff', 'going', 'down', 'at', 'the', 'moment', 'with', 'mj', 'i', 've', 'started', 'listening', 'to', 'his', 'music', 'watching', 'the', 'odd', 'documentary', 'here', 'and', 'there', 'watched', 'the', 'wiz', 'and', 'watched', 'moonwalker', 'again'], ['maybe', 'i', 'just', 'want', 'to', 'get', 'a', 'certain', 'insight', 'into', 'this', 'guy', 'who', 'i', 'thought', 'was', 'really', 'cool', 'in', 'the', 'eighties', 'just', 'to', 'maybe', 'make', 'up', 'my', 'mind', 'whether', 'he', 'is', 'guilty', 'or', 'innocent']]\n"
     ]
    }
   ],
   "source": [
    "print(len(sentence))\n",
    "print()\n",
    "print(sentence[:2])\n"
   ]
  },
  {
   "cell_type": "code",
   "execution_count": 9,
   "metadata": {},
   "outputs": [
    {
     "data": {
      "text/plain": [
       "'\"With all this stuff going down at the moment with MJ i\\'ve started listening to his music, watching the odd documentary here and there, watched The Wiz and watched Moonwalker again. Maybe i just want to get a certain insight into this guy who i thought was really cool in the eighties just to maybe make up my mind whether he is guilty or innocent. Moonwalker is part biography, part feature film which i remember going to see at the cinema when it was originally released. Some of it has subtle messages about MJ\\'s feeling towards the press and also the obvious message of drugs are bad m\\'kay.<br /><br />Visually impressive but of course this is all about Michael Jackson so unless you remotely like MJ in anyway then you are going to hate this and find it boring. Some may call MJ an egotist for consenting to the making of this movie BUT MJ and most of his fans would say that he made it for the fans which if true is really nice of him.<br /><br />The actual feature film bit when it finally starts is only on for 20 minutes or so excluding the Smooth Criminal sequence and Joe Pesci is convincing as a psychopathic all powerful drug lord. Why he wants MJ dead so bad is beyond me. Because MJ overheard his plans? Nah, Joe Pesci\\'s character ranted that he wanted people to know it is he who is supplying drugs etc so i dunno, maybe he just hates MJ\\'s music.<br /><br />Lots of cool things in this like MJ turning into a car and a robot and the whole Speed Demon sequence. Also, the director must have had the patience of a saint when it came to filming the kiddy Bad sequence as usually directors hate working with one kid let alone a whole bunch of them performing a complex dance scene.<br /><br />Bottom line, this movie is for people who like MJ on one level or another (which i think is most people). If not, then stay away. It does try and give off a wholesome message and ironically MJ\\'s bestest buddy in this movie is a girl! Michael Jackson is truly one of the most talented people ever to grace this planet but is he guilty? Well, with all the attention i\\'ve gave this subject....hmmm well i don\\'t know because people can be different behind closed doors, i know this for a fact. He is either an extremely nice but stupid guy or one of the most sickest liars. I hope he is not the latter.\"'"
      ]
     },
     "execution_count": 9,
     "metadata": {},
     "output_type": "execute_result"
    }
   ],
   "source": [
    "train['review'][0]"
   ]
  },
  {
   "cell_type": "code",
   "execution_count": 11,
   "metadata": {},
   "outputs": [],
   "source": [
    "from gensim.models import word2vec"
   ]
  },
  {
   "cell_type": "code",
   "execution_count": 12,
   "metadata": {},
   "outputs": [],
   "source": [
    "num_features = 250\n",
    "min_count = 40\n",
    "num_processor = 4\n",
    "context = 10\n",
    "downsampling = 0.001"
   ]
  },
  {
   "cell_type": "code",
   "execution_count": 13,
   "metadata": {},
   "outputs": [],
   "source": [
    "# Plug in the sentence variable first.\n",
    "\n",
    "model = word2vec.Word2Vec(sentence, workers = num_processor, \n",
    "                         size = num_features, min_count = min_count,\n",
    "                         window = context, sample = downsampling)"
   ]
  },
  {
   "cell_type": "code",
   "execution_count": 14,
   "metadata": {},
   "outputs": [],
   "source": [
    "# Unload unneccessary memory once the learning process is done.\n",
    "\n",
    "model.init_sims(replace = True)"
   ]
  },
  {
   "cell_type": "code",
   "execution_count": 15,
   "metadata": {},
   "outputs": [],
   "source": [
    "model_name = \"250features_40minwords_20context\"\n",
    "model.save(model_name)"
   ]
  },
  {
   "cell_type": "code",
   "execution_count": 16,
   "metadata": {},
   "outputs": [
    {
     "data": {
      "text/plain": [
       "[('prince', 0.6115729808807373),\n",
       " ('lion', 0.5922257900238037),\n",
       " ('kingdom', 0.5399940013885498),\n",
       " ('arthur', 0.5393497943878174),\n",
       " ('solomon', 0.5356030464172363),\n",
       " ('stephen', 0.5314776301383972),\n",
       " ('aladdin', 0.5310251712799072),\n",
       " ('kings', 0.5264624357223511),\n",
       " ('hong', 0.5124601125717163),\n",
       " ('rudolf', 0.5122345685958862)]"
      ]
     },
     "execution_count": 16,
     "metadata": {},
     "output_type": "execute_result"
    }
   ],
   "source": [
    "model.most_similar(\"king\")"
   ]
  },
  {
   "cell_type": "code",
   "execution_count": 29,
   "metadata": {},
   "outputs": [
    {
     "data": {
      "text/plain": [
       "[('terrible', 0.7910809516906738),\n",
       " ('horrible', 0.7510476112365723),\n",
       " ('abysmal', 0.7458819150924683),\n",
       " ('atrocious', 0.7392771244049072),\n",
       " ('dreadful', 0.7102159261703491),\n",
       " ('appalling', 0.6896439790725708),\n",
       " ('horrendous', 0.6858556270599365),\n",
       " ('horrid', 0.6791461706161499),\n",
       " ('lousy', 0.6487061977386475),\n",
       " ('amateurish', 0.647085964679718)]"
      ]
     },
     "execution_count": 29,
     "metadata": {},
     "output_type": "execute_result"
    }
   ],
   "source": [
    "model.most_similar(\"awful\")"
   ]
  },
  {
   "cell_type": "code",
   "execution_count": 30,
   "metadata": {},
   "outputs": [
    {
     "data": {
      "text/plain": [
       "(16487, 250)"
      ]
     },
     "execution_count": 30,
     "metadata": {},
     "output_type": "execute_result"
    }
   ],
   "source": [
    "model.wv.syn0.shape"
   ]
  },
  {
   "cell_type": "code",
   "execution_count": 17,
   "metadata": {},
   "outputs": [],
   "source": [
    "''' \n",
    "\n",
    "The purpose of this function is to combine all the word2vec vector values of each word in each review\n",
    "if each review is given as input and divide by the total number of words.\n",
    "\n",
    "Each word can be represented as number of feature dimension space vector. ex) model['flower'] = array([0.1, 0.2, ...]).\n",
    "(You can think of it as extended xy coordinate.) Therefore, it enables vectorizing each review by \n",
    "combining all the words' vector values.\n",
    "\n",
    "Illustration example:\n",
    "\n",
    "'I' = [0.1, 0.2, ...]\n",
    "'have' = [0.2, 0.3, ...]\n",
    "'a car' = [0.1, 0.2, ...]\n",
    "'I have a car' = [0.1 + 0.2 + 0.1, 0.2 + 0.3 + 0.2,  ...]\n",
    "\n",
    "\n",
    "ex) review1 = ['he', 'has', 'a', 'cat']\n",
    "\n",
    "First word : If the word 'he' is in the word2vec, index the vector values from word2vec model by model['he']\n",
    "(the dimension of the matrix would be, in this case, (400,) ) and add them to predefined zero matrix.\n",
    "\n",
    "Second word: Check if there is the word 'has' in the word2vec model and if there is, index the vector values and \n",
    "add them on top of the added vector values from the first word.\n",
    "\n",
    "The rest: Iterate the above steps for the rest of words and lastly, divide by the total number of words. \n",
    "\n",
    "Illustration example: \n",
    "\n",
    "zero : [0,    0,   0,   ....]\n",
    "word1: [0.2,  0.3, 0.4, ....]\n",
    "word2: [0.1,  0.2, 0.3, ....]\n",
    "\n",
    "word(1~2): [0.3, 0.5, 0.7, ....]\n",
    "\n",
    "'''\n",
    "\n",
    "def makeFeatureVec(review, model, num_features):\n",
    "    \n",
    "    featureVec = np.zeros((num_features,), dtype = \"float32\")\n",
    "    \n",
    "    # Unique word set\n",
    "    word_index = set(model.wv.index2word)\n",
    "    \n",
    "    # For division we need to count the number of words\n",
    "    nword = 0\n",
    "    \n",
    "    # Iterate words in a review and if the word is in the unique wordset, add the vector values for each word.\n",
    "    for word in review:\n",
    "        if word in word_index:\n",
    "            nword += 1\n",
    "            featureVec = np.add(featureVec, model[word])\n",
    "    \n",
    "    # Divide the sum of vector values by total number of word in a review.\n",
    "    featureVec = np.divide(featureVec, nword)        \n",
    "    \n",
    "    return featureVec"
   ]
  },
  {
   "cell_type": "code",
   "execution_count": 18,
   "metadata": {},
   "outputs": [],
   "source": [
    "''' \n",
    "\n",
    "While iterating over reviews, add the vector sums of each review from the function \"makeFeatureVec\" to \n",
    "the predefined vector whose size is the number of total reviews and the number of features in word2vec.\n",
    "The working principle is basically same with \"makeFeatureVec\" but this is a review basis and \n",
    "makeFeatureVec is word basis (or each word's vector basis)\n",
    "\n",
    "\n",
    "return matrix:\n",
    "\n",
    "            'V1'    'V2'    'V3'     'V4'\n",
    "review 1    0.1      0.2     0.1     0.5\n",
    "review 2    0.5      0.4     0.05    0.05\n",
    "\n",
    "'''\n",
    "\n",
    "def getAvgFeatureVec(clean_reviews, model, num_features):\n",
    "    \n",
    "    # Keep track of the sequence of reviews, create the number \"th\" variable.\n",
    "    review_th = 0\n",
    "    \n",
    "    # Row: number of total reviews, Column: number of vector spaces (num_features = 250 we set this in Word2Vec step).\n",
    "    reviewFeatureVecs = np.zeros((len(clean_reviews), num_features), dtype = \"float32\")\n",
    "    \n",
    "    # Iterate over reviews and add the result of makeFeatureVec.\n",
    "    for review in clean_reviews:\n",
    "        reviewFeatureVecs[int(review_th)] = makeFeatureVec(review, model, num_features)\n",
    "        \n",
    "        # Once the vector values are added, increase the one for the review_th variable.\n",
    "        review_th += 1\n",
    "    \n",
    "    return reviewFeatureVecs"
   ]
  },
  {
   "cell_type": "code",
   "execution_count": 19,
   "metadata": {},
   "outputs": [],
   "source": [
    "clean_train_reviews = []\n",
    "\n",
    "# Clean the reviews by preprocessing function with stopwords option \"on\".\n",
    "for review in train[\"review\"]:\n",
    "    clean_train_reviews.append(preprocess_wordlist(review, stopwords = True))\n",
    "\n",
    "# Apply \"getAvgFeatureVec\" function.\n",
    "trainDataAvg = getAvgFeatureVec(clean_train_reviews, model, num_features)\n",
    "    \n",
    "    \n",
    "# Same steps repeats as we did for train_set.    \n",
    "clean_test_reviews = []\n",
    "\n",
    "for review in test[\"review\"]:\n",
    "    clean_test_reviews.append(preprocess_wordlist(review, stopwords = True))\n",
    "\n",
    "testDataAvg = getAvgFeatureVec(clean_test_reviews, model, num_features)"
   ]
  },
  {
   "cell_type": "code",
   "execution_count": 36,
   "metadata": {},
   "outputs": [],
   "source": [
    "from sklearn.svm import LinearSVC\n",
    "from sklearn.model_selection import GridSearchCV, StratifiedKFold, learning_curve\n",
    "from sklearn.linear_model import LogisticRegression\n",
    "\n"
   ]
  },
  {
   "cell_type": "code",
   "execution_count": 32,
   "metadata": {},
   "outputs": [
    {
     "name": "stdout",
     "output_type": "stream",
     "text": [
      "Fitting random forest to training data....\n"
     ]
    }
   ],
   "source": [
    "# Fitting a random forest classifier to the training data\n",
    "from sklearn.ensemble import RandomForestClassifier\n",
    "forest = RandomForestClassifier(n_estimators = 100)\n",
    "    \n",
    "print(\"Fitting random forest to training data....\")    \n",
    "forest = forest.fit(trainDataAvg, train[\"sentiment\"])\n"
   ]
  },
  {
   "cell_type": "code",
   "execution_count": 40,
   "metadata": {},
   "outputs": [
    {
     "name": "stdout",
     "output_type": "stream",
     "text": [
      "1.0\n"
     ]
    }
   ],
   "source": [
    "print(forest.score(trainDataAvg,train['sentiment']))"
   ]
  },
  {
   "cell_type": "code",
   "execution_count": 34,
   "metadata": {},
   "outputs": [],
   "source": [
    "# Predicting the sentiment values for test data and saving the results in a csv file \n",
    "result = forest.predict(testDataAvg)\n",
    "output = pd.DataFrame(data={\"id\":test[\"id\"], \"sentiment\":result})\n",
    "output.to_csv( \"output.csv\", index=False, quoting=3 )"
   ]
  },
  {
   "cell_type": "code",
   "execution_count": 38,
   "metadata": {},
   "outputs": [
    {
     "name": "stdout",
     "output_type": "stream",
     "text": [
      "Fitting 5 folds for each of 1 candidates, totalling 5 fits\n"
     ]
    },
    {
     "name": "stderr",
     "output_type": "stream",
     "text": [
      "[Parallel(n_jobs=1)]: Using backend SequentialBackend with 1 concurrent workers.\n",
      "[Parallel(n_jobs=1)]: Done   5 out of   5 | elapsed:  4.3min finished\n"
     ]
    },
    {
     "name": "stdout",
     "output_type": "stream",
     "text": [
      "{'C': 20, 'class_weight': {1: 2}, 'loss': 'squared_hinge', 'penalty': 'l2'}\n"
     ]
    }
   ],
   "source": [
    "# LinearSVC\n",
    "kfold = StratifiedKFold(n_splits=5, random_state = 2018)\n",
    "sv = LinearSVC(random_state=2018)\n",
    "\n",
    "param_grid1 = {\n",
    "    'loss':['squared_hinge'],\n",
    "    'class_weight':[{1:2}],\n",
    "    'C': [20],\n",
    "    'penalty':['l2']\n",
    "}\n",
    "\n",
    "gs_sv = GridSearchCV(sv, param_grid = [param_grid1], verbose = 1, cv = kfold, n_jobs = 1, scoring = 'roc_auc' )\n",
    "gs_sv.fit(trainDataAvg, train['sentiment'])\n",
    "gs_sv_best = gs_sv.best_estimator_\n",
    "print(gs_sv.best_params_)"
   ]
  },
  {
   "cell_type": "code",
   "execution_count": 39,
   "metadata": {},
   "outputs": [
    {
     "name": "stdout",
     "output_type": "stream",
     "text": [
      "0.942875936\n"
     ]
    }
   ],
   "source": [
    "print(gs_sv.best_score_)"
   ]
  },
  {
   "cell_type": "code",
   "execution_count": 41,
   "metadata": {},
   "outputs": [
    {
     "name": "stdout",
     "output_type": "stream",
     "text": [
      "Fitting 5 folds for each of 1 candidates, totalling 5 fits\n"
     ]
    },
    {
     "name": "stderr",
     "output_type": "stream",
     "text": [
      "[Parallel(n_jobs=1)]: Using backend SequentialBackend with 1 concurrent workers.\n",
      "[Parallel(n_jobs=1)]: Done   5 out of   5 | elapsed:  6.4min finished\n"
     ]
    },
    {
     "name": "stdout",
     "output_type": "stream",
     "text": [
      "{'C': 40, 'class_weight': 'balanced', 'dual': False, 'penalty': 'l1', 'solver': 'saga'}\n",
      "0.943032064\n"
     ]
    }
   ],
   "source": [
    "#logistic\n",
    "lr = LogisticRegression(random_state = 2018)\n",
    "\n",
    "\n",
    "lr_param2 = {\n",
    "    'penalty':['l1'],\n",
    "    'dual':[False],\n",
    "    'C':[40],\n",
    "    'class_weight':['balanced'],\n",
    "    'solver':['saga']\n",
    "    \n",
    "}\n",
    "\n",
    "lr_CV = GridSearchCV(lr, param_grid = [lr_param2], cv = kfold, scoring = 'roc_auc', n_jobs = 1, verbose = 1)\n",
    "lr_CV.fit(trainDataAvg,train['sentiment'])\n",
    "print(lr_CV.best_params_)\n",
    "logi_best = lr_CV.best_estimator_\n",
    "print(lr_CV.best_score_)"
   ]
  },
  {
   "cell_type": "code",
   "execution_count": null,
   "metadata": {},
   "outputs": [],
   "source": []
  },
  {
   "cell_type": "code",
   "execution_count": null,
   "metadata": {},
   "outputs": [],
   "source": []
  },
  {
   "cell_type": "code",
   "execution_count": null,
   "metadata": {},
   "outputs": [],
   "source": []
  }
 ],
 "metadata": {
  "kernelspec": {
   "display_name": "Python 3",
   "language": "python",
   "name": "python3"
  },
  "language_info": {
   "codemirror_mode": {
    "name": "ipython",
    "version": 3
   },
   "file_extension": ".py",
   "mimetype": "text/x-python",
   "name": "python",
   "nbconvert_exporter": "python",
   "pygments_lexer": "ipython3",
   "version": "3.7.3"
  }
 },
 "nbformat": 4,
 "nbformat_minor": 2
}
